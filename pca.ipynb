{
 "cells": [
  {
   "cell_type": "markdown",
   "metadata": {},
   "source": [
    "# Notebook for PCA of the data"
   ]
  },
  {
   "cell_type": "markdown",
   "metadata": {},
   "source": [
    "## Libraries"
   ]
  },
  {
   "cell_type": "code",
   "execution_count": 37,
   "metadata": {},
   "outputs": [],
   "source": [
    "import pandas as pd\n",
    "import numpy as np\n",
    "import math\n",
    "%matplotlib inline\n",
    "from matplotlib import pyplot as plt\n",
    "import random\n",
    "random.seed(1)\n",
    "from sklearn.preprocessing import normalize"
   ]
  },
  {
   "cell_type": "markdown",
   "metadata": {},
   "source": [
    "## Importing the data set\n",
    "Our dataset contains images of the **HAM10000** dataset, a large collection of multi-source dermatoscopic images of common pigmented skin lesions."
   ]
  },
  {
   "cell_type": "code",
   "execution_count": 38,
   "metadata": {},
   "outputs": [
    {
     "name": "stdout",
     "output_type": "stream",
     "text": [
      "       pixel0000  pixel0001  pixel0002  pixel0003  pixel0004  pixel0005  \\\n",
      "0            169        171        170        177        181        182   \n",
      "1             19         57        105        140        149        148   \n",
      "2            155        163        161        167        167        172   \n",
      "3             25         71        116        139        136        153   \n",
      "4            129        162        181        196        205        208   \n",
      "...          ...        ...        ...        ...        ...        ...   \n",
      "10010        172        171        173        175        164        187   \n",
      "10011          2         34        108        116        114        119   \n",
      "10012        122        154        162        170        179        197   \n",
      "10013        137        143        141        139        147        152   \n",
      "10014        149        157        157        152        151        152   \n",
      "\n",
      "       pixel0006  pixel0007  pixel0008  pixel0009  ...  pixel0775  pixel0776  \\\n",
      "0            181        185        194        192  ...        184        186   \n",
      "1            144        155        170        170  ...        172        175   \n",
      "2            155        152        165        175  ...        163        178   \n",
      "3            148        161        172        162  ...        125        135   \n",
      "4            205        213        225        224  ...        210        197   \n",
      "...          ...        ...        ...        ...  ...        ...        ...   \n",
      "10010        207        210        208        206  ...        210        217   \n",
      "10011        131        139        139        145  ...        173        169   \n",
      "10012        200        195        202        199  ...        221        215   \n",
      "10013        155        152        155        159  ...        172        171   \n",
      "10014        154        163        149        145  ...        159        154   \n",
      "\n",
      "       pixel0777  pixel0778  pixel0779  pixel0780  pixel0781  pixel0782  \\\n",
      "0            185        180        157        140        140        159   \n",
      "1            160        144        114         89         47         18   \n",
      "2            157        166        167        148        141        136   \n",
      "3            138        137        111         71         32         16   \n",
      "4            172        190        195        193        181        147   \n",
      "...          ...        ...        ...        ...        ...        ...   \n",
      "10010        221        209        185        187        192        192   \n",
      "10011        168        168        143        138         83         23   \n",
      "10012        205        187        209        198        187        164   \n",
      "10013        175        183        177        170        169        166   \n",
      "10014        145        106         67         62        103        146   \n",
      "\n",
      "       pixel0783  label  \n",
      "0            165      2  \n",
      "1             18      2  \n",
      "2            115      2  \n",
      "3             16      2  \n",
      "4             88      2  \n",
      "...          ...    ...  \n",
      "10010        192      0  \n",
      "10011          3      0  \n",
      "10012        156      0  \n",
      "10013        170      0  \n",
      "10014        148      6  \n",
      "\n",
      "[10015 rows x 785 columns]\n"
     ]
    }
   ],
   "source": [
    "# IMPORTANT: Filepath depends on OS!\n",
    "df = pd.read_csv(r'data/hmnist_28_28_L.csv')\n",
    "print(df) # Shape (#images, h*w+1) (here: (10015, 785))"
   ]
  },
  {
   "cell_type": "markdown",
   "metadata": {},
   "source": [
    "## Displaying a data image"
   ]
  },
  {
   "cell_type": "code",
   "execution_count": 39,
   "metadata": {},
   "outputs": [
    {
     "data": {
      "image/png": "[encoded data removed]",
      "text/plain": [
       "<Figure size 640x480 with 1 Axes>"
      ]
     },
     "metadata": {},
     "output_type": "display_data"
    }
   ],
   "source": [
    "def disp_img(data_vec):\n",
    "    # Handle the cases of whether the label for an image is provided or not\n",
    "    if math.sqrt(np.size(data_vec)) != int(math.sqrt(np.size(data_vec))):\n",
    "        img_label = data_vec[-1]\n",
    "        img_vec = data_vec[0:-1]\n",
    "    else:\n",
    "        img_vec = data_vec\n",
    "\n",
    "    size = np.size(img_vec)\n",
    "    dimension = int(math.sqrt(size))\n",
    "\n",
    "    img_mat = np.reshape(np.array(img_vec), (dimension, dimension))\n",
    "\n",
    "    plt.imshow(img_mat)\n",
    "    plt.show()\n",
    "\n",
    "\n",
    "img_number = 9869 # Index of a particular data image\n",
    "data_vec = df.loc[img_number]\n",
    "\n",
    "disp_img(data_vec)"
   ]
  },
  {
   "cell_type": "markdown",
   "metadata": {},
   "source": [
    "# Count occurences of labels\n",
    "Count the number of data images corresponding to each label."
   ]
  },
  {
   "cell_type": "code",
   "execution_count": 40,
   "metadata": {},
   "outputs": [
    {
     "name": "stdout",
     "output_type": "stream",
     "text": [
      "[(0, 327), (1, 514), (2, 1099), (3, 115), (4, 6705), (5, 142), (6, 1113)]\n"
     ]
    }
   ],
   "source": [
    "label = df['label']\n",
    "uniq_label, counts_label = np.unique(label, return_counts=True)\n",
    "\n",
    "# Each tuple will contain a label and the number of images with the same label\n",
    "# [(label, #occurences), ..]\n",
    "occurences = list(zip(uniq_label, counts_label))\n",
    "print(occurences)"
   ]
  },
  {
   "cell_type": "markdown",
   "metadata": {},
   "source": [
    "# Importing metadata\n",
    "This metadata file contains additional information about the patients for each data image (e.g. age, sex, body part where the image has been taken)."
   ]
  },
  {
   "cell_type": "code",
   "execution_count": 41,
   "metadata": {},
   "outputs": [
    {
     "name": "stdout",
     "output_type": "stream",
     "text": [
      "         lesion_id      image_id     dx dx_type   age     sex localization\n",
      "0      HAM_0000118  ISIC_0027419    bkl   histo  80.0    male        scalp\n",
      "1      HAM_0000118  ISIC_0025030    bkl   histo  80.0    male        scalp\n",
      "2      HAM_0002730  ISIC_0026769    bkl   histo  80.0    male        scalp\n",
      "3      HAM_0002730  ISIC_0025661    bkl   histo  80.0    male        scalp\n",
      "4      HAM_0001466  ISIC_0031633    bkl   histo  75.0    male          ear\n",
      "...            ...           ...    ...     ...   ...     ...          ...\n",
      "10010  HAM_0002867  ISIC_0033084  akiec   histo  40.0    male      abdomen\n",
      "10011  HAM_0002867  ISIC_0033550  akiec   histo  40.0    male      abdomen\n",
      "10012  HAM_0002867  ISIC_0033536  akiec   histo  40.0    male      abdomen\n",
      "10013  HAM_0000239  ISIC_0032854  akiec   histo  80.0    male         face\n",
      "10014  HAM_0003521  ISIC_0032258    mel   histo  70.0  female         back\n",
      "\n",
      "[10015 rows x 7 columns]\n"
     ]
    }
   ],
   "source": [
    "# IMPORTANT: Filepath depends on OS!\n",
    "df_meta = pd.read_csv(r'data/HAM10000_metadata.csv')\n",
    "print(df_meta)"
   ]
  },
  {
   "cell_type": "markdown",
   "metadata": {},
   "source": [
    "# The various diagnostic categories\n",
    "The labels/numbers represent the following diagnostic categories:\n",
    "\n",
    "**0)** Actinic keratoses and intraepithelial carcinoma / Bowen's disease (akiec)\n",
    "\n",
    "**1)** basal cell carcinoma (bcc)\n",
    "\n",
    "**2)** benign keratosis-like lesions (solar lentigines / seborrheic keratoses and lichen-planus like keratoses, bkl)\n",
    "\n",
    "**3)** dermatofibroma (df)\n",
    "\n",
    "**4)** melanoma (mel)\n",
    "\n",
    "**5)** melanocytic nevi (nv)\n",
    "\n",
    "**6)** vascular lesions (angiomas, angiokeratomas, pyogenic granulomas and hemorrhage, vasc)"
   ]
  },
  {
   "cell_type": "code",
   "execution_count": 42,
   "metadata": {},
   "outputs": [
    {
     "name": "stdout",
     "output_type": "stream",
     "text": [
      "[('akiec', 327), ('bcc', 514), ('bkl', 1099), ('df', 115), ('mel', 1113), ('nv', 6705), ('vasc', 142)]\n"
     ]
    }
   ],
   "source": [
    "cath = df_meta['dx']\n",
    "uniq_cath, counts_cath = np.unique(cath, return_counts=True)\n",
    "\n",
    "diagnoses = list(zip(uniq_cath, counts_cath))\n",
    "print(diagnoses)"
   ]
  },
  {
   "cell_type": "markdown",
   "metadata": {},
   "source": [
    "# Partition the images into the different classes\n",
    "Create a list of nested lists. Each nested list represents a label and contains the indices of all data images with the same label. E.g. img_index_group[2] contains all images for label 2."
   ]
  },
  {
   "cell_type": "code",
   "execution_count": 43,
   "metadata": {},
   "outputs": [],
   "source": [
    "# List of 7 nested lists (for each diagnostical categorie)\n",
    "# The ith nested list contains the indices of all images, which correspond to label i\n",
    "# E.g. img_index_group[2] contains all images for label 2\n",
    "img_index_group = []\n",
    "\n",
    "for i in range(len(uniq_label)):\n",
    "    img_index_group.append([])\n",
    "    for j in range(df.shape[0]):\n",
    "        if df['label'][j] == i:\n",
    "            img_index_group[i].append(j)\n",
    "\n",
    "# Output would exceed the size limit\n",
    "# print(img_index_group)\n",
    "\n",
    "# For debugging purposes\n",
    "# print(list((i, len(img_index_group[i])) for i in range(len(img_index_group))))"
   ]
  },
  {
   "cell_type": "markdown",
   "metadata": {},
   "source": [
    "# Splitting into training and testing data"
   ]
  },
  {
   "cell_type": "code",
   "execution_count": 44,
   "metadata": {},
   "outputs": [],
   "source": [
    "training_split = 0.9                #Percentage of Data used for training\n",
    "img_index_group_split = []          #Same as img_index_group but every nested list is split into two lists: first is list for training, second is list for testing\n",
    "\n",
    "for i in range(len(img_index_group)):\n",
    "    random.shuffle(img_index_group[i])\n",
    "    split_point = round(len(img_index_group[i])*training_split)\n",
    "    img_index_group_split.append([img_index_group[i][:split_point], img_index_group[i][split_point:]])\n",
    "    \n",
    "    #print(i)\n",
    "    #print(len(img_index_group_split[i][0]))\n",
    "    #print(len(img_index_group_split[i][1]))\n",
    "\n",
    "#print(img_index_group_split)"
   ]
  },
  {
   "cell_type": "markdown",
   "metadata": {},
   "source": [
    "# Running Clustering on the different diagnosis\n",
    "\n",
    "## Principal Component Analysis\n",
    "\n",
    "Corresponding to HW4 Question E, find reference for Steps in the posted Solution"
   ]
  },
  {
   "cell_type": "markdown",
   "metadata": {},
   "source": [
    "### Discarding the labels of the data to create clean matrix for the calculations"
   ]
  },
  {
   "cell_type": "code",
   "execution_count": 45,
   "metadata": {},
   "outputs": [
    {
     "name": "stdout",
     "output_type": "stream",
     "text": [
      "       pixel0000  pixel0001  pixel0002  pixel0003  pixel0004  pixel0005  \\\n",
      "0            169        171        170        177        181        182   \n",
      "1             19         57        105        140        149        148   \n",
      "2            155        163        161        167        167        172   \n",
      "3             25         71        116        139        136        153   \n",
      "4            129        162        181        196        205        208   \n",
      "...          ...        ...        ...        ...        ...        ...   \n",
      "10010        172        171        173        175        164        187   \n",
      "10011          2         34        108        116        114        119   \n",
      "10012        122        154        162        170        179        197   \n",
      "10013        137        143        141        139        147        152   \n",
      "10014        149        157        157        152        151        152   \n",
      "\n",
      "       pixel0006  pixel0007  pixel0008  pixel0009  ...  pixel0774  pixel0775  \\\n",
      "0            181        185        194        192  ...        176        184   \n",
      "1            144        155        170        170  ...        181        172   \n",
      "2            155        152        165        175  ...        162        163   \n",
      "3            148        161        172        162  ...        142        125   \n",
      "4            205        213        225        224  ...        211        210   \n",
      "...          ...        ...        ...        ...  ...        ...        ...   \n",
      "10010        207        210        208        206  ...        210        210   \n",
      "10011        131        139        139        145  ...        184        173   \n",
      "10012        200        195        202        199  ...        223        221   \n",
      "10013        155        152        155        159  ...        178        172   \n",
      "10014        154        163        149        145  ...        166        159   \n",
      "\n",
      "       pixel0776  pixel0777  pixel0778  pixel0779  pixel0780  pixel0781  \\\n",
      "0            186        185        180        157        140        140   \n",
      "1            175        160        144        114         89         47   \n",
      "2            178        157        166        167        148        141   \n",
      "3            135        138        137        111         71         32   \n",
      "4            197        172        190        195        193        181   \n",
      "...          ...        ...        ...        ...        ...        ...   \n",
      "10010        217        221        209        185        187        192   \n",
      "10011        169        168        168        143        138         83   \n",
      "10012        215        205        187        209        198        187   \n",
      "10013        171        175        183        177        170        169   \n",
      "10014        154        145        106         67         62        103   \n",
      "\n",
      "       pixel0782  pixel0783  \n",
      "0            159        165  \n",
      "1             18         18  \n",
      "2            136        115  \n",
      "3             16         16  \n",
      "4            147         88  \n",
      "...          ...        ...  \n",
      "10010        192        192  \n",
      "10011         23          3  \n",
      "10012        164        156  \n",
      "10013        166        170  \n",
      "10014        146        148  \n",
      "\n",
      "[10015 rows x 784 columns]\n"
     ]
    }
   ],
   "source": [
    "data = df.iloc[:, :-1]\n",
    "print(data)"
   ]
  },
  {
   "cell_type": "markdown",
   "metadata": {},
   "source": [
    "### Computing Mean of each diagnostics cathegory\n",
    "\n",
    "Corresponding E.2"
   ]
  },
  {
   "cell_type": "code",
   "execution_count": 46,
   "metadata": {},
   "outputs": [
    {
     "data": {
      "image/png": "[encoded data removed]",
      "text/plain": [
       "<Figure size 640x480 with 1 Axes>"
      ]
     },
     "metadata": {},
     "output_type": "display_data"
    },
    {
     "name": "stdout",
     "output_type": "stream",
     "text": [
      "pixel0000    141.951070\n",
      "pixel0001    148.571865\n",
      "pixel0002    154.773700\n",
      "pixel0003    160.703364\n",
      "pixel0004    165.149847\n",
      "                ...    \n",
      "pixel0779    158.648318\n",
      "pixel0780    154.813456\n",
      "pixel0781    149.571865\n",
      "pixel0782    142.165138\n",
      "pixel0783    135.253823\n",
      "Length: 784, dtype: float64\n"
     ]
    },
    {
     "data": {
      "image/png": "[encoded data removed]",
      "text/plain": [
       "<Figure size 640x480 with 1 Axes>"
      ]
     },
     "metadata": {},
     "output_type": "display_data"
    },
    {
     "name": "stdout",
     "output_type": "stream",
     "text": [
      "pixel0000    142.474708\n",
      "pixel0001    151.447471\n",
      "pixel0002    159.025292\n",
      "pixel0003    163.750973\n",
      "pixel0004    166.478599\n",
      "                ...    \n",
      "pixel0779    161.077821\n",
      "pixel0780    156.429961\n",
      "pixel0781    149.571984\n",
      "pixel0782    140.449416\n",
      "pixel0783    131.920233\n",
      "Length: 784, dtype: float64\n"
     ]
    },
    {
     "data": {
      "image/png": "[encoded data removed]",
      "text/plain": [
       "<Figure size 640x480 with 1 Axes>"
      ]
     },
     "metadata": {},
     "output_type": "display_data"
    },
    {
     "name": "stdout",
     "output_type": "stream",
     "text": [
      "pixel0000    127.044586\n",
      "pixel0001    134.572338\n",
      "pixel0002    141.916288\n",
      "pixel0003    147.786169\n",
      "pixel0004    152.607825\n",
      "                ...    \n",
      "pixel0779    148.361237\n",
      "pixel0780    142.708826\n",
      "pixel0781    135.993631\n",
      "pixel0782    127.997270\n",
      "pixel0783    119.348499\n",
      "Length: 784, dtype: float64\n"
     ]
    },
    {
     "data": {
      "image/png": "[encoded data removed]",
      "text/plain": [
       "<Figure size 640x480 with 1 Axes>"
      ]
     },
     "metadata": {},
     "output_type": "display_data"
    },
    {
     "name": "stdout",
     "output_type": "stream",
     "text": [
      "pixel0000    145.078261\n",
      "pixel0001    156.330435\n",
      "pixel0002    164.808696\n",
      "pixel0003    169.530435\n",
      "pixel0004    172.417391\n",
      "                ...    \n",
      "pixel0779    164.756522\n",
      "pixel0780    160.269565\n",
      "pixel0781    152.269565\n",
      "pixel0782    140.504348\n",
      "pixel0783    129.947826\n",
      "Length: 784, dtype: float64\n"
     ]
    },
    {
     "data": {
      "image/png": "[encoded data removed]",
      "text/plain": [
       "<Figure size 640x480 with 1 Axes>"
      ]
     },
     "metadata": {},
     "output_type": "display_data"
    },
    {
     "name": "stdout",
     "output_type": "stream",
     "text": [
      "pixel0000    154.427890\n",
      "pixel0001    158.798359\n",
      "pixel0002    162.214914\n",
      "pixel0003    164.558688\n",
      "pixel0004    166.907233\n",
      "                ...    \n",
      "pixel0779    163.432215\n",
      "pixel0780    160.433855\n",
      "pixel0781    156.984191\n",
      "pixel0782    153.074720\n",
      "pixel0783    149.043997\n",
      "Length: 784, dtype: float64\n"
     ]
    },
    {
     "data": {
      "image/png": "[encoded data removed]",
      "text/plain": [
       "<Figure size 640x480 with 1 Axes>"
      ]
     },
     "metadata": {},
     "output_type": "display_data"
    },
    {
     "name": "stdout",
     "output_type": "stream",
     "text": [
      "pixel0000    158.359155\n",
      "pixel0001    164.753521\n",
      "pixel0002    169.380282\n",
      "pixel0003    171.640845\n",
      "pixel0004    173.746479\n",
      "                ...    \n",
      "pixel0779    168.823944\n",
      "pixel0780    166.647887\n",
      "pixel0781    162.830986\n",
      "pixel0782    156.922535\n",
      "pixel0783    148.007042\n",
      "Length: 784, dtype: float64\n"
     ]
    },
    {
     "data": {
      "image/png": "[encoded data removed]",
      "text/plain": [
       "<Figure size 640x480 with 1 Axes>"
      ]
     },
     "metadata": {},
     "output_type": "display_data"
    },
    {
     "name": "stdout",
     "output_type": "stream",
     "text": [
      "pixel0000    124.917341\n",
      "pixel0001    134.283917\n",
      "pixel0002    143.216532\n",
      "pixel0003    149.942498\n",
      "pixel0004    155.674753\n",
      "                ...    \n",
      "pixel0779    156.126685\n",
      "pixel0780    149.589398\n",
      "pixel0781    141.782570\n",
      "pixel0782    132.428571\n",
      "pixel0783    122.437556\n",
      "Length: 784, dtype: float64\n"
     ]
    }
   ],
   "source": [
    "mean = []\n",
    "\n",
    "for i in range(len(img_index_group)):\n",
    "    mean.append(np.mean(data.iloc[img_index_group[i]], axis=0))\n",
    "    \n",
    "    disp_img(mean[i])\n",
    "    print(mean[i])\n"
   ]
  },
  {
   "cell_type": "markdown",
   "metadata": {},
   "source": [
    "### Substracting Mean for each diagnostic cathegory from the data of that cathegory\n",
    "\n",
    "Corresponding E.3"
   ]
  },
  {
   "cell_type": "code",
   "execution_count": 47,
   "metadata": {},
   "outputs": [
    {
     "name": "stdout",
     "output_type": "stream",
     "text": [
      "        pixel0000   pixel0001  pixel0002  pixel0003  pixel0004  pixel0005  \\\n",
      "0       41.955414   36.427662  28.083712  29.213831  28.392175  25.363967   \n",
      "1     -108.044586  -77.572338 -36.916288  -7.786169  -3.607825  -8.636033   \n",
      "2       27.955414   28.427662  19.083712  19.213831  14.392175  15.363967   \n",
      "3     -102.044586  -63.572338 -25.916288  -8.786169 -16.607825  -3.636033   \n",
      "4        1.955414   27.427662  39.083712  48.213831  52.392175  51.363967   \n",
      "...           ...         ...        ...        ...        ...        ...   \n",
      "10010   30.048930   22.428135  18.226300  14.296636  -1.149847  18.899083   \n",
      "10011 -139.951070 -114.571865 -46.773700 -44.703364 -51.149847 -49.100917   \n",
      "10012  -19.951070    5.428135   7.226300   9.296636  13.850153  28.899083   \n",
      "10013   -4.951070   -5.571865 -13.773700 -21.703364 -18.149847 -16.100917   \n",
      "10014   24.082659   22.716083  13.783468   2.057502  -4.674753  -8.734052   \n",
      "\n",
      "       pixel0006  pixel0007  pixel0008  pixel0009  ...  pixel0774  pixel0775  \\\n",
      "0      21.202912  23.182894  30.530482  27.422202  ...  15.625114  25.413103   \n",
      "1     -15.797088  -6.817106   6.530482   5.422202  ...  20.625114  13.413103   \n",
      "2      -4.797088  -9.817106   1.530482  10.422202  ...   1.625114   4.413103   \n",
      "3     -11.797088  -0.817106   8.530482  -2.577798  ... -18.374886 -33.586897   \n",
      "4      45.202912  51.182894  61.530482  59.422202  ...  50.625114  51.413103   \n",
      "...          ...        ...        ...        ...  ...        ...        ...   \n",
      "10010  36.685015  37.042813  32.620795  29.642202  ...  39.712538  40.727829   \n",
      "10011 -39.314985 -33.957187 -36.379205 -31.357798  ...  13.712538   3.727829   \n",
      "10012  29.685015  22.042813  26.620795  22.642202  ...  52.712538  51.727829   \n",
      "10013 -15.314985 -20.957187 -20.379205 -17.357798  ...   7.712538   2.727829   \n",
      "10014 -10.639712  -4.229111 -19.595687 -24.725966  ...  -1.897574  -7.713387   \n",
      "\n",
      "       pixel0776  pixel0777  pixel0778  pixel0779  pixel0780   pixel0781  \\\n",
      "0      29.265696  30.451319  28.123749   8.638763  -2.708826    4.006369   \n",
      "1      18.265696   5.451319  -7.876251 -34.361237 -53.708826  -88.993631   \n",
      "2      21.265696   2.451319  14.123749  18.638763   5.291174    5.006369   \n",
      "3     -21.734304 -16.548681 -14.876251 -37.361237 -71.708826 -103.993631   \n",
      "4      40.265696  17.451319  38.123749  46.638763  50.291174   45.006369   \n",
      "...          ...        ...        ...        ...        ...         ...   \n",
      "10010  48.651376  55.418960  46.614679  26.351682  32.186544   42.428135   \n",
      "10011   0.651376   2.418960   5.614679 -15.648318 -16.813456  -66.571865   \n",
      "10012  46.651376  39.418960  24.614679  50.351682  43.186544   37.428135   \n",
      "10013   2.651376   9.418960  20.614679  18.351682  15.186544   19.428135   \n",
      "10014 -11.237197 -18.253369 -54.430368 -89.126685 -87.589398  -38.782570   \n",
      "\n",
      "        pixel0782   pixel0783  \n",
      "0       31.002730   45.651501  \n",
      "1     -109.997270 -101.348499  \n",
      "2        8.002730   -4.348499  \n",
      "3     -111.997270 -103.348499  \n",
      "4       19.002730  -31.348499  \n",
      "...           ...         ...  \n",
      "10010   49.834862   56.746177  \n",
      "10011 -119.165138 -132.253823  \n",
      "10012   21.834862   20.746177  \n",
      "10013   23.834862   34.746177  \n",
      "10014   13.571429   25.562444  \n",
      "\n",
      "[10015 rows x 784 columns]\n"
     ]
    }
   ],
   "source": [
    "data_sub_mean = pd.DataFrame()\n",
    "for i in range(len(img_index_group)):\n",
    "    data_sub_mean = pd.concat((data_sub_mean, data.loc[img_index_group[i]]-mean[i]))\n",
    "\n",
    "data_sub_mean.sort_index(axis=0, inplace=True)\n",
    "#data_sub_mean = data_sub_mean.transpose()\n",
    "\n",
    "#IMPORTANT\n",
    "#In the lecture, data is in the form (#pixels X #images)\n",
    "#For us its in the form (#images X #pixels), thats why sometimes there is a transpose when there is none in the VL\n",
    "#See comments (transpose is because of different data shape) in next code blocks\n",
    "#Isnt done globally because it messes up the indexing in the data frame which we need to fiter the images belonging to a group\n",
    "#This is why nearly next to all data_sub_mean.loc[img_index_gour[i]] there will be an additional .transpose() which does not come up in tne formulas from lecture\n",
    "\n",
    "print(data_sub_mean)"
   ]
  },
  {
   "cell_type": "markdown",
   "metadata": {},
   "source": [
    "### Calculating the Eigenvalues and Eigenvectores for each cathegory\n",
    "\n",
    "Corresponding E.4"
   ]
  },
  {
   "cell_type": "code",
   "execution_count": 48,
   "metadata": {},
   "outputs": [
    {
     "name": "stdout",
     "output_type": "stream",
     "text": [
      "[array([6.50774501e+07, 2.34687085e+07, 1.54681273e+07, 7.85415670e+06,\n",
      "       6.41630418e+06, 4.76621781e+06, 4.22550353e+06, 3.98356738e+06,\n",
      "       3.13270569e+06, 2.61939698e+06, 1.86409499e+06, 1.81382840e+06,\n",
      "       1.68660688e+06, 1.53125803e+06, 1.46567484e+06, 1.32175500e+06,\n",
      "       1.21896645e+06, 1.07275685e+06, 1.02179453e+06, 9.78382837e+05,\n",
      "       9.17059354e+05, 8.11285481e+05, 7.87531435e+05, 7.68096204e+05,\n",
      "       7.45919821e+05, 6.99716535e+05, 6.67475305e+05, 6.61096740e+05,\n",
      "       6.14806716e+05, 5.65487422e+05, 5.07661563e+05, 4.90885005e+05,\n",
      "       4.81283927e+05, 4.51611587e+05, 4.27554152e+05, 4.20214443e+05,\n",
      "       4.03087043e+05, 3.88624714e+05, 3.67624801e+05, 3.49232837e+05,\n",
      "       3.45633973e+05, 3.39006542e+05, 3.22657820e+05, 3.15754971e+05,\n",
      "       3.13096689e+05, 3.00777878e+05, 2.89009408e+05, 2.81846357e+05,\n",
      "       2.79519925e+05, 2.73231840e+05, 2.64896664e+05, 2.48404131e+05,\n",
      "       2.41832547e+05, 6.54023505e-10, 2.30644402e+05, 2.24853841e+05,\n",
      "       2.22573269e+05, 2.18944532e+05, 2.09676737e+05, 2.05733330e+05,\n",
      "       2.00604639e+05, 1.95879772e+05, 1.93868311e+05, 1.89759160e+05,\n",
      "       1.86270345e+05, 1.81546425e+05, 1.75705901e+05, 1.73815022e+05,\n",
      "       1.67885499e+05, 1.66714601e+05, 1.59271478e+05, 1.56697345e+05,\n",
      "       1.53020861e+05, 1.51515486e+05, 1.48077257e+05, 1.46237099e+05,\n",
      "       1.43399994e+05, 1.40205423e+05, 1.40095956e+05, 1.36560687e+05,\n",
      "       1.30550489e+05, 1.29264375e+05, 1.26995000e+05, 1.24514019e+05,\n",
      "       1.23075254e+05, 1.22017871e+05, 1.19844641e+05, 1.17897540e+05,\n",
      "       1.16287189e+05, 1.14536931e+05, 1.09587560e+05, 1.08173124e+05,\n",
      "       1.05360380e+05, 1.03421126e+05, 9.06044482e+04, 1.01689703e+05,\n",
      "       9.99135121e+04, 9.94322098e+04, 9.31990571e+04, 9.68258054e+04,\n",
      "       9.51385891e+04, 9.58377957e+04, 8.83727608e+04, 8.73810259e+04,\n",
      "       8.48771811e+04, 8.43295675e+04, 8.28834465e+04, 8.15067217e+04,\n",
      "       8.10551413e+04, 8.01719182e+04, 7.86475865e+04, 7.62867299e+04,\n",
      "       7.52917738e+04, 7.46850896e+04, 6.72738440e+04, 7.28998362e+04,\n",
      "       6.85358354e+04, 7.17881160e+04, 6.95691360e+04, 7.08353602e+04,\n",
      "       7.03476430e+04, 6.61476038e+04, 6.54467791e+04, 6.40035993e+04,\n",
      "       6.31607600e+04, 6.22699232e+04, 6.10376511e+04, 6.01912353e+04,\n",
      "       5.93794560e+04, 5.83354899e+04, 5.85987636e+04, 5.68707295e+04,\n",
      "       5.28769089e+04, 5.37860461e+04, 5.53585292e+04, 5.47259490e+04,\n",
      "       5.34501733e+04, 5.14638118e+04, 5.04478794e+04, 5.02030645e+04,\n",
      "       4.96062181e+04, 4.87567176e+04, 4.78008483e+04, 4.74804605e+04,\n",
      "       4.68549895e+04, 4.53211903e+04, 4.55430202e+04, 4.59695902e+04,\n",
      "       4.61356522e+04, 4.38257430e+04, 4.34509015e+04, 4.28151995e+04,\n",
      "       4.23801833e+04, 4.22357523e+04, 3.72404131e+04, 3.79987691e+04,\n",
      "       4.07985586e+04, 4.02892073e+04, 3.99517376e+04, 3.95773196e+04,\n",
      "       3.94942749e+04, 3.85248500e+04, 3.67188456e+04, 3.64499446e+04,\n",
      "       3.57722833e+04, 3.52908258e+04, 3.48256381e+04, 3.44477672e+04,\n",
      "       3.07280466e+04, 3.12951137e+04, 3.39200386e+04, 3.34315616e+04,\n",
      "       3.30148223e+04, 3.21465667e+04, 3.23513358e+04, 4.28572041e+02,\n",
      "       8.61816929e+02, 3.05645116e+04, 3.01054381e+04, 2.99301169e+04,\n",
      "       2.97826080e+04, 2.92162178e+04, 2.90001987e+04, 2.84537659e+04,\n",
      "       2.78667896e+04, 2.75523655e+04, 2.70488552e+04, 2.73254534e+04,\n",
      "       2.63151510e+04, 2.60284590e+04, 1.90550677e+03, 2.01894511e+03,\n",
      "       2.17126345e+03, 2.56829993e+04, 2.53838647e+04, 2.50759960e+04,\n",
      "       2.48920330e+04, 2.46887003e+04, 2.43328932e+04, 2.41068137e+04,\n",
      "       2.38326933e+04, 2.32009183e+04, 2.29240919e+04, 2.29393169e+04,\n",
      "       2.19237985e+04, 2.16455454e+04, 2.15127186e+04, 2.20956096e+03,\n",
      "       2.18884476e+03, 2.33724599e+03, 2.49815160e+03, 2.63740720e+03,\n",
      "       2.70251689e+03, 2.80269111e+03, 2.83312779e+03, 3.39276393e+03,\n",
      "       3.35332680e+03, 3.03971699e+03, 3.13161938e+03, 3.11893289e+03,\n",
      "       2.11312625e+04, 2.12001572e+04, 2.07431847e+04, 2.02853169e+04,\n",
      "       2.00900819e+04, 1.98007066e+04, 1.96471104e+04, 1.91981940e+04,\n",
      "       1.88375663e+04, 1.86308795e+04, 1.83512797e+04, 1.80185625e+04,\n",
      "       1.78655975e+04, 1.75592381e+04, 1.73306022e+04, 1.73691306e+04,\n",
      "       1.65721248e+04, 1.67243528e+04, 3.76710184e+03, 3.56875532e+03,\n",
      "       3.63298428e+03, 3.88297737e+03, 3.99049477e+03, 1.53902296e+04,\n",
      "       1.56032902e+04, 1.58477575e+04, 1.60026884e+04, 1.59381585e+04,\n",
      "       4.15941708e+03, 4.22390513e+03, 4.25993995e+03, 4.40466658e+03,\n",
      "       4.48623541e+03, 4.59999681e+03, 1.49462672e+04, 1.48958829e+04,\n",
      "       1.46571980e+04, 1.44637363e+04, 1.43190186e+04, 1.40471175e+04,\n",
      "       1.41784508e+04, 1.38601132e+04, 1.36461645e+04, 1.34228878e+04,\n",
      "       1.33361972e+04, 1.29347705e+04, 1.27586752e+04, 1.22758019e+04,\n",
      "       1.20422029e+04, 1.18700646e+04, 1.17253671e+04, 4.35033510e+03,\n",
      "       4.87914311e+03, 4.80708348e+03, 4.70915432e+03, 5.03443533e+03,\n",
      "       5.22324346e+03, 5.35678314e+03, 1.24110424e+04, 1.25369714e+04,\n",
      "       1.14436924e+04, 1.08287772e+04, 1.09597485e+04, 1.00004182e+04,\n",
      "       1.01985568e+04, 1.04684889e+04, 6.97411298e+03, 6.24545288e+03,\n",
      "       6.06152702e+03, 5.93622501e+03, 5.18824144e+03, 5.73666259e+03,\n",
      "       5.64467521e+03, 5.53982771e+03, 5.84286302e+03, 1.11473058e+04,\n",
      "       1.13267312e+04, 1.12685491e+04, 9.57553272e+03, 9.73539951e+03,\n",
      "       5.42226185e+03, 8.49666445e+03, 8.76935536e+03, 6.55776035e+03,\n",
      "       6.53227208e+03, 6.68802086e+03, 6.77055362e+03, 7.23400016e+03,\n",
      "       7.14556865e+03, 8.24084166e+03, 7.74358245e+03, 8.09729170e+03,\n",
      "       7.87751889e+03, 6.31845044e+03, 1.02700844e+04, 1.05116453e+04,\n",
      "       9.36243409e+03, 9.26562554e+03, 9.18301141e+03, 7.42717642e+03,\n",
      "       7.36230120e+03, 9.03257995e+03, 7.98648490e+03, 8.17216534e+03,\n",
      "       9.06230763e+03, 8.78920996e+03, 7.53294835e+03]), array([1.17405863e+08, 4.64508204e+07, 1.48116510e+07, 1.24244932e+07,\n",
      "       9.63189962e+06, 7.12945780e+06, 5.70220285e+06, 5.22147343e+06,\n",
      "       4.58355836e+06, 3.82963372e+06, 2.76247090e+06, 2.43469649e+06,\n",
      "       2.25186019e+06, 2.01885515e+06, 1.91792858e+06, 1.75559695e+06,\n",
      "       1.60720780e+06, 1.38008887e+06, 1.21070795e+06, 1.12635993e+06,\n",
      "       1.07181932e+06, 1.01092030e+06, 9.56203645e+05, 9.25126751e+05,\n",
      "       8.76721151e+05, 8.26768611e+05, 8.05913474e+05, 7.53164066e+05,\n",
      "       7.15615516e+05, 7.05502416e+05, 6.73161912e+05, 6.53040545e+05,\n",
      "       6.15329910e+05, 5.56583319e+05, 5.47536987e+05, 5.30978176e+05,\n",
      "       5.05966138e+05, 4.89075380e+05, 4.59938099e+05, 4.62742135e+05,\n",
      "       4.18244445e+05, 4.05417315e+05, 3.94182120e+05, 3.88335902e+05,\n",
      "       3.72305755e+05, 3.51339883e+05, 3.46612006e+05, 3.39029790e+05,\n",
      "       3.25943413e+05, 3.19422057e+05, 3.11893744e+05, 3.04891966e+05,\n",
      "       3.01168854e+05, 2.82608672e+05, 2.76982276e+05, 2.69399019e+05,\n",
      "       2.65704938e+05, 2.59884357e+05, 2.55094995e+05, 2.57956330e+05,\n",
      "       2.44727464e+05, 2.34926547e+05, 2.38215052e+05, 2.21147641e+05,\n",
      "       2.20417793e+05, 2.17726443e+05, 2.07385316e+05, 2.01671833e+05,\n",
      "       1.97793072e+05, 1.96993289e+05, 1.92641493e+05, 1.88473415e+05,\n",
      "       1.82660367e+05, 1.79713807e+05, 1.75678877e+05, 1.73508446e+05,\n",
      "       1.72967793e+05, 1.65513308e+05, 1.62129865e+05, 1.60873565e+05,\n",
      "       1.58764990e+05, 1.55189984e+05, 1.53613785e+05, 1.50904602e+05,\n",
      "       1.47036613e+05, 1.43864940e+05, 1.39490104e+05, 1.37606861e+05,\n",
      "       1.35500966e+05, 1.33040215e+05, 1.30078611e+05, 1.28902232e+05,\n",
      "       1.28176551e+05, 1.25717060e+05, 1.23493882e+05, 1.20956839e+05,\n",
      "       1.19654316e+05, 1.17247341e+05, 1.16247240e+05, 1.13440364e+05,\n",
      "       1.10515933e+05, 1.08776028e+05, 1.07734353e+05, 1.06399833e+05,\n",
      "       1.04746932e+05, 1.03606030e+05, 9.98141568e+04, 1.01365277e+05,\n",
      "       1.00968411e+05, 9.68357776e+04, 9.55418059e+04, 9.24894235e+04,\n",
      "       8.98159076e+04, 8.90712553e+04, 9.34987100e+04, 9.57034839e+04,\n",
      "       8.62237349e+04, 8.54568781e+04, 8.13936845e+04, 8.35708142e+04,\n",
      "       8.50252003e+04, 8.39284087e+04, 7.98843028e+04, 7.91703063e+04,\n",
      "       7.84905620e+04, 7.64781927e+04, 7.26324213e+04, 7.49681311e+04,\n",
      "       7.45309834e+04, 7.37676200e+04, 7.16495801e+04, 7.03838668e+04,\n",
      "       6.92090768e+04, 6.85751171e+04, 6.79245400e+04, 6.73183791e+04,\n",
      "       6.56870062e+04, 6.43986926e+04, 6.50392813e+04, 6.31548695e+04,\n",
      "       6.25097031e+04, 6.15574869e+04, 6.10410742e+04, 6.14007836e+04,\n",
      "       5.99193322e+04, 5.85565850e+04, 5.90267490e+04, 5.72128468e+04,\n",
      "       5.67149514e+04, 5.53321304e+04, 5.51008786e+04, 5.43911134e+04,\n",
      "       5.38135565e+04, 5.31075582e+04, 5.10331604e+04, 5.24231065e+04,\n",
      "       5.06066547e+04, 4.97835601e+04, 4.94344625e+04, 4.86854620e+04,\n",
      "       4.58706246e+04, 4.63881833e+04, 4.74669518e+04, 4.80041320e+04,\n",
      "       4.78862349e+04, 4.45631101e+04, 4.42012546e+04, 3.81017677e+04,\n",
      "       4.37471678e+04, 3.89243736e+04, 4.34172430e+04, 4.30252747e+04,\n",
      "       3.99543873e+04, 4.21822565e+04, 4.18257731e+04, 4.10547949e+04,\n",
      "       4.04291212e+04, 4.01721768e+04, 4.11809539e+04, 3.96239095e+04,\n",
      "       3.77401780e+04, 3.74493974e+04, 3.71948868e+04, 3.65774243e+04,\n",
      "       3.64095378e+04, 3.61219792e+04, 3.52598376e+04, 3.39104666e+04,\n",
      "       3.47535679e+04, 3.43636165e+04, 3.44743892e+04, 3.34519818e+04,\n",
      "       3.31901717e+04, 3.30813400e+04, 3.24537014e+04, 3.20753011e+04,\n",
      "       3.17254858e+04, 3.15906587e+04, 3.11605195e+04, 3.05441416e+04,\n",
      "       3.01104259e+04, 2.98801590e+04, 2.95448731e+04, 2.91804631e+04,\n",
      "       2.89253873e+04, 2.86626284e+04, 2.84454332e+04, 2.82075464e+04,\n",
      "       2.81359108e+04, 2.70639898e+04, 2.69828230e+04, 2.26367801e+04,\n",
      "       2.66812503e+04, 2.31133560e+04, 2.61233138e+04, 2.56333824e+04,\n",
      "       2.51850414e+04, 2.29161283e+04, 2.41212334e+04, 2.64629232e+04,\n",
      "       2.60065177e+04, 2.38431895e+04, 2.47831528e+04, 2.33213985e+04,\n",
      "       2.36305166e+04, 2.43822918e+04, 2.53446999e+04, 2.22318585e+04,\n",
      "       2.18728021e+04, 2.16871275e+04, 2.15269044e+04, 2.10509410e+04,\n",
      "       2.09465159e+04, 2.08504325e+04, 2.03802699e+04, 2.03033536e+04,\n",
      "       2.03154531e+04, 1.98788330e+04, 1.98572905e+04, 1.97547196e+04,\n",
      "       1.91961420e+04, 1.91193790e+04, 1.89857853e+04, 1.88708134e+04,\n",
      "       1.81261702e+04, 1.82684135e+04, 1.78268545e+04, 1.82580036e+04,\n",
      "       1.44993192e+04, 1.46112629e+04, 1.76468829e+04, 1.74622477e+04,\n",
      "       1.70181494e+04, 1.71861815e+04, 1.73760721e+04, 1.66760360e+04,\n",
      "       1.50973808e+04, 1.57655425e+04, 1.54891098e+04, 1.64669622e+04,\n",
      "       1.58968585e+04, 1.61227264e+04, 1.62175610e+04, 1.49798811e+04,\n",
      "       1.71128542e+04, 1.52089052e+04, 1.59318798e+04, 1.41248886e+04,\n",
      "       1.40740716e+04, 1.39745131e+04, 1.38213493e+04, 1.40390679e+04,\n",
      "       1.93099393e-09, 1.35283867e+04, 1.33551493e+04, 1.32225743e+04,\n",
      "       1.31494803e+04, 1.29319590e+04, 1.28895327e+04, 1.27978211e+04,\n",
      "       1.26513712e+04, 1.25782590e+04, 1.23838904e+04, 1.22365375e+04,\n",
      "       1.21351695e+04, 1.20551645e+04, 1.16895151e+04, 1.16345392e+04,\n",
      "       1.15869472e+04, 1.14740798e+04, 1.13186169e+04, 1.11703156e+04,\n",
      "       1.11299364e+04, 1.04022772e+04, 1.08073387e+04, 1.06464031e+04,\n",
      "       1.06835856e+04, 1.05828268e+04, 1.00274809e+04, 1.02137472e+04,\n",
      "       1.03009156e+04, 1.01215710e+04, 9.73232089e+03, 9.83355113e+03,\n",
      "       9.84557364e+03, 9.66228068e+03, 9.32600214e+03, 9.41940284e+03,\n",
      "       2.82174526e+02, 8.92917162e+03, 9.10517476e+03, 9.05600068e+03,\n",
      "       9.26413767e+03, 8.84872007e+03, 8.73936668e+03, 8.65870831e+03,\n",
      "       8.57527452e+03, 8.44406124e+03, 8.40410825e+03, 8.30038910e+03,\n",
      "       8.12534200e+03, 7.97828728e+03, 8.05595899e+03, 7.86820555e+03,\n",
      "       7.79745857e+03, 7.57921666e+03, 7.45627252e+03, 7.66711717e+03,\n",
      "       7.23967163e+03, 7.39343025e+03, 7.52938099e+03, 7.17704684e+03,\n",
      "       7.12067222e+03, 7.06913612e+03, 4.76352355e+03, 4.76727539e+03,\n",
      "       6.95394441e+03, 4.87075754e+03, 6.85055192e+03, 6.77500083e+03,\n",
      "       6.70643805e+03, 6.79949106e+03, 4.94101349e+03, 4.95094550e+03,\n",
      "       6.55290840e+03, 6.49467786e+03, 5.05862880e+03, 5.10711537e+03,\n",
      "       6.36004328e+03, 5.16285335e+03, 5.23791536e+03, 6.20080726e+03,\n",
      "       6.29311091e+03, 6.33031195e+03, 6.06394291e+03, 5.36674725e+03,\n",
      "       5.56507268e+03, 5.71295906e+03, 5.45797671e+03, 5.46933183e+03,\n",
      "       5.27910438e+03, 5.39831291e+03, 5.96505353e+03, 5.94471904e+03,\n",
      "       5.90580571e+03, 5.81046091e+03, 5.85235970e+03, 5.76531659e+03,\n",
      "       4.25422524e+03, 4.32427110e+03, 4.36909170e+03, 4.70227204e+03,\n",
      "       4.57581015e+03, 4.50149678e+03, 4.41186230e+03, 4.42556075e+03,\n",
      "       4.52668885e+03, 2.96580344e+02, 4.19080227e+03, 3.56226083e+03,\n",
      "       3.61024924e+03, 4.14849858e+03, 4.06902190e+03, 3.98175312e+03,\n",
      "       4.10211536e+03, 3.84140009e+03, 3.76708736e+03, 3.72857207e+03,\n",
      "       3.87329925e+03, 4.00801904e+03, 3.69853634e+03, 3.85746213e+03,\n",
      "       3.12052128e+02, 3.26705889e+02, 3.29691465e+02, 3.66761563e+02,\n",
      "       3.84049038e+02, 3.99653765e+02, 4.11828484e+02, 4.25180920e+02,\n",
      "       4.63952864e+02, 4.67424963e+02, 4.71062104e+02, 4.99053381e+02,\n",
      "       5.37845502e+02, 5.50486535e+02, 5.14702409e+02, 5.19995393e+02,\n",
      "       3.51169703e+03, 3.49695175e+03, 3.46600591e+03, 3.37226727e+03,\n",
      "       2.84059856e+03, 2.94684496e+03, 3.01168272e+03, 2.88517468e+03,\n",
      "       3.33466594e+03, 3.31364300e+03, 3.18583032e+03, 3.08005374e+03,\n",
      "       3.24236590e+03, 3.21178774e+03, 3.13331037e+03, 3.28155485e+03,\n",
      "       3.08856036e+03, 2.79449820e+03, 2.74699637e+03, 2.71223015e+03,\n",
      "       2.77861151e+03, 2.62787127e+03, 2.65697696e+03, 2.64693323e+03,\n",
      "       5.80717377e+02, 5.88309854e+02, 2.58268869e+03, 2.51877190e+03,\n",
      "       6.06918745e+02, 6.18107170e+02, 6.36903948e+02, 2.43624002e+03,\n",
      "       2.39696809e+03, 2.46967024e+03, 2.48418633e+03, 6.45135973e+02,\n",
      "       2.33877671e+03, 2.32820216e+03, 7.12969462e+02, 6.75660256e+02,\n",
      "       6.68806284e+02, 2.24616515e+03, 7.37121579e+02, 2.18853250e+03,\n",
      "       8.13598115e+02, 8.40499542e+02, 2.23626044e+03, 2.14904709e+03,\n",
      "       2.20693454e+03, 7.47661393e+02, 7.76571927e+02, 8.68244985e+02,\n",
      "       7.97422731e+02, 7.62732795e+02, 2.08909045e+03, 1.92833198e+03,\n",
      "       2.02161583e+03, 2.06562203e+03, 1.95342425e+03, 2.01112211e+03,\n",
      "       8.94384361e+02, 8.83834394e+02, 2.05040145e+03, 2.04496473e+03,\n",
      "       1.96257932e+03, 1.85243372e+03, 1.89352349e+03, 1.78746644e+03,\n",
      "       9.11371389e+02, 9.61793548e+02, 9.09850150e+02, 1.02294934e+03,\n",
      "       1.74200534e+03, 1.75905203e+03, 1.04171689e+03, 1.68994222e+03,\n",
      "       1.63836247e+03, 1.07535156e+03, 1.12809836e+03, 1.19293222e+03,\n",
      "       1.21751135e+03, 1.15676694e+03, 1.71281070e+03, 1.08382941e+03,\n",
      "       1.24382470e+03, 1.25809948e+03, 1.62074374e+03, 1.50293275e+03,\n",
      "       1.28618613e+03, 1.31354727e+03, 9.82700462e+02, 1.41683947e+03,\n",
      "       1.35213848e+03, 1.44283053e+03, 1.57841326e+03, 1.70174083e+03,\n",
      "       1.58260475e+03, 1.47042642e+03, 9.81974568e+02, 1.04595565e+03,\n",
      "       1.11839529e+03, 1.52674148e+03, 1.45936698e+03, 1.37670919e+03,\n",
      "       1.29415396e+03, 1.39451260e+03]), array([ 3.30040033e+08+0.00000000e+00j,  1.47639313e+08+0.00000000e+00j,\n",
      "        4.85238007e+07+0.00000000e+00j, ...,\n",
      "       -7.94534956e-11-5.76803191e-11j, -2.03413050e-10+7.83339703e-12j,\n",
      "       -2.03413050e-10-7.83339703e-12j]), array([2.50487890e+07, 1.29465094e+07, 4.00303055e+06, 3.10055300e+06,\n",
      "       1.95336804e+06, 1.57804419e+06, 1.15728908e+06, 8.66926124e+05,\n",
      "       7.58358626e+05, 6.64393693e+05, 5.85745821e+05, 5.89460732e+05,\n",
      "       4.47856178e+05, 4.20594450e+05, 4.05253583e+05, 3.14122915e+05,\n",
      "       2.92485591e+05, 2.62876889e+05, 2.34720134e+05, 2.08606172e+05,\n",
      "       1.87898197e+05, 1.78786357e+05, 1.72252130e+05, 1.53116658e+05,\n",
      "       1.45687784e+05, 1.42647271e+05, 1.32476055e+05, 1.21218335e+05,\n",
      "       1.16964595e+05, 1.07980635e+05, 1.03548440e+05, 1.00628816e+05,\n",
      "       9.53358336e+04, 8.89079904e+04, 8.95813467e+04, 8.01345451e+04,\n",
      "       7.55768785e+04, 7.71818788e+04, 7.17725213e+04, 6.88603045e+04,\n",
      "       6.42062222e+04, 6.29704447e+04, 6.05506228e+04, 5.95190424e+04,\n",
      "       5.83381436e+04, 5.51423122e+04, 5.13996858e+04, 4.73931176e+04,\n",
      "       4.71420623e+04, 4.25458969e+04, 4.51289040e+04, 4.46643107e+04,\n",
      "       4.02757480e+04, 4.01169837e+04, 3.85267896e+04, 3.66206002e+04,\n",
      "       3.38715112e+04, 3.30055049e+04, 3.21694791e+04, 3.17484234e+04,\n",
      "       2.97852177e+04, 3.04720370e+04, 8.66264685e-10, 2.91551149e+04,\n",
      "       2.69727890e+04, 2.73167409e+04, 2.56635553e+04, 2.50608400e+04,\n",
      "       2.48592556e+04, 2.40161786e+04, 2.13955127e+04, 2.11502564e+04,\n",
      "       2.05832630e+04, 2.01421910e+04, 2.34257451e+03, 2.95273455e+03,\n",
      "       3.35941229e+03, 3.68810286e+03, 1.91738984e+04, 1.83770160e+04,\n",
      "       1.85975110e+04, 1.69204087e+04, 4.26076329e+03, 4.72449734e+03,\n",
      "       1.57441904e+04, 1.61659493e+04, 1.61142052e+04, 5.35371829e+03,\n",
      "       1.44624966e+04, 5.62983334e+03, 5.69006917e+03, 1.37572821e+04,\n",
      "       1.42850643e+04, 1.33142640e+04, 5.93724471e+03, 6.67794437e+03,\n",
      "       6.86703357e+03, 1.28412065e+04, 7.29338712e+03, 7.50191593e+03,\n",
      "       1.21721048e+04, 1.02482331e+04, 6.06218167e+03, 1.06771582e+04,\n",
      "       9.70603515e+03, 8.22572111e+03, 8.79287017e+03, 1.17264234e+04,\n",
      "       1.24941236e+04, 1.09451236e+04, 8.09861686e+03, 9.39992119e+03,\n",
      "       8.89830066e+03, 1.13585645e+04, 7.80567815e+03]), array([ 1.97154058e+09+0.j,  1.10855330e+09+0.j,  3.00133730e+08+0.j, ...,\n",
      "        3.46305237e-11+0.j, -3.02258850e-13+0.j,  1.68825864e-13+0.j]), array([ 4.26041509e+07,  2.71334740e+07,  8.06342637e+06,  5.23790825e+06,\n",
      "        3.26719283e+06,  2.43785512e+06,  2.17070721e+06,  1.73705570e+06,\n",
      "        1.57066678e+06,  1.35856400e+06,  1.03200264e+06,  8.83331442e+05,\n",
      "        7.05014052e+05,  6.68823930e+05,  6.21741228e+05,  5.43135956e+05,\n",
      "        4.71607578e+05,  4.21731667e+05,  3.80424864e+05,  3.55525294e+05,\n",
      "        3.25696793e+05,  2.70356388e+05,  2.55588815e+05,  2.45198424e+05,\n",
      "        2.43599169e+05,  2.24979504e+05,  2.10597906e+05,  1.98142975e+05,\n",
      "        1.99888730e+05,  1.79587381e+05,  1.75201406e+05,  1.63513159e+05,\n",
      "        1.53718982e+05,  1.37212610e+05,  1.31261037e+05,  1.29825644e+05,\n",
      "        1.18733799e+05,  1.17476525e+05,  1.07473577e+05,  1.05688117e+05,\n",
      "        1.02875527e+05,  9.77558398e+04,  9.11357266e+04,  8.62255146e+04,\n",
      "        8.24930287e+04,  8.12556464e+04,  7.91839913e+04,  7.49580788e+04,\n",
      "        7.09353108e+04,  7.05132148e+04,  6.43314426e+04,  6.14869516e+04,\n",
      "        6.06088138e+04,  5.68501352e+04,  5.61939894e+04,  5.43267589e+04,\n",
      "        5.14884597e+04,  4.87219351e+04,  4.83637845e+04,  4.61032361e+04,\n",
      "        4.55464507e+04,  4.34213160e+04,  4.15608683e+04,  3.79906405e+04,\n",
      "        4.03946871e+04,  3.92689660e+04,  3.60322483e+04,  3.54938138e+04,\n",
      "        3.51043299e+04,  3.24868078e+04,  3.18764886e+04,  3.20121846e+04,\n",
      "        3.08590212e+04,  2.99671156e+04,  2.81955908e+04,  2.73603123e+04,\n",
      "        2.64370234e+04,  2.49875804e+04,  2.35385046e+04,  2.44936019e+04,\n",
      "        2.28871485e+04,  2.09763795e+04,  2.15597488e+04,  2.05526224e+04,\n",
      "       -3.81987775e-10,  1.95015376e+04,  1.89340106e+04,  1.88200284e+04,\n",
      "        1.80374607e+04,  1.72077461e+04,  1.64408589e+04,  1.61501686e+04,\n",
      "        1.55804506e+04,  1.51884051e+04,  1.48705504e+04,  1.44717157e+04,\n",
      "        1.41074805e+04,  2.29550236e+03,  1.35170424e+04,  1.25011336e+04,\n",
      "        1.28206119e+04,  2.63181090e+03,  2.51498932e+03,  2.48986002e+03,\n",
      "        1.17024885e+04,  3.06445526e+03,  3.07630822e+03,  1.14621490e+04,\n",
      "        1.12523891e+04,  1.09566463e+04,  3.37799441e+03,  3.53370664e+03,\n",
      "        1.03721492e+04,  3.66349312e+03,  1.07333991e+04,  1.00082005e+04,\n",
      "        3.93440461e+03,  4.21119515e+03,  4.04589927e+03,  9.71493005e+03,\n",
      "        8.93162112e+03,  9.19425754e+03,  8.00896390e+03,  4.50906666e+03,\n",
      "        7.67095605e+03,  8.56757057e+03,  9.38010011e+03,  7.41982138e+03,\n",
      "        4.63349200e+03,  7.07324227e+03,  4.88880523e+03,  8.35440026e+03,\n",
      "        6.50770174e+03,  6.25032443e+03,  6.71952426e+03,  5.04083800e+03,\n",
      "        5.24391869e+03,  5.19640572e+03,  5.80934416e+03,  5.57460513e+03,\n",
      "        6.17875182e+03,  5.48392536e+03]), array([ 3.69723221e+08+0.00000000e+00j,  2.75436064e+08+0.00000000e+00j,\n",
      "        7.29965504e+07+0.00000000e+00j, ...,\n",
      "       -7.13538229e-12+1.19805776e-10j, -7.13538229e-12-1.19805776e-10j,\n",
      "        1.04384660e-10+0.00000000e+00j])]\n",
      "[array([[-0.02111877,  0.09463987, -0.0189303 , ..., -0.00671605,\n",
      "         0.00197653, -0.00024095],\n",
      "       [-0.03429384, -0.03912371,  0.02591277, ..., -0.05348312,\n",
      "         0.00350504,  0.06218769],\n",
      "       [ 0.01315974,  0.02698478,  0.04319407, ...,  0.01608989,\n",
      "         0.0313667 , -0.01989294],\n",
      "       ...,\n",
      "       [-0.03173071,  0.0375597 , -0.11740129, ...,  0.01155496,\n",
      "         0.02423844, -0.00163951],\n",
      "       [ 0.00948531,  0.02855536,  0.04356365, ...,  0.0130657 ,\n",
      "        -0.00371449,  0.03085349],\n",
      "       [-0.03244921,  0.03083171,  0.04882325, ...,  0.0507134 ,\n",
      "        -0.08355033,  0.05376684]]), array([[ 0.00350568,  0.02176142, -0.0199593 , ..., -0.00917807,\n",
      "        -0.00912844,  0.00532541],\n",
      "       [ 0.03178239, -0.04237981, -0.01406266, ..., -0.07440423,\n",
      "         0.05379602, -0.04326288],\n",
      "       [ 0.00132999, -0.00048329,  0.04147122, ...,  0.03429438,\n",
      "        -0.02340922,  0.03135499],\n",
      "       ...,\n",
      "       [ 0.03653606,  0.03492713,  0.07991218, ..., -0.06026825,\n",
      "        -0.09677422, -0.01347365],\n",
      "       [ 0.02903651, -0.01212081, -0.01787739, ...,  0.05167101,\n",
      "        -0.10483355,  0.06581139],\n",
      "       [-0.01603273,  0.05518043,  0.11748289, ...,  0.04680423,\n",
      "         0.02807276,  0.02215056]]), array([[-0.01681891+0.00000000e+00j,  0.027774  +0.00000000e+00j,\n",
      "        -0.00982684+0.00000000e+00j, ..., -0.0043744 -1.23285559e-03j,\n",
      "        -0.01033594+1.37312670e-04j, -0.01033594-1.37312670e-04j],\n",
      "       [ 0.02126157+0.00000000e+00j, -0.02565986+0.00000000e+00j,\n",
      "         0.02466078+0.00000000e+00j, ...,  0.00057109-2.20178482e-04j,\n",
      "         0.00020461-3.29463383e-05j,  0.00020461+3.29463383e-05j],\n",
      "       [-0.03540411+0.00000000e+00j,  0.01716588+0.00000000e+00j,\n",
      "         0.00412381+0.00000000e+00j, ..., -0.00113632+5.79591332e-04j,\n",
      "        -0.00222022+7.29039667e-05j, -0.00222022-7.29039667e-05j],\n",
      "       ...,\n",
      "       [ 0.05680244+0.00000000e+00j, -0.01596846+0.00000000e+00j,\n",
      "         0.12855193+0.00000000e+00j, ..., -0.02796866-4.07918378e-03j,\n",
      "        -0.03657853-4.33547504e-04j, -0.03657853+4.33547504e-04j],\n",
      "       [ 0.01431893+0.00000000e+00j,  0.01585527+0.00000000e+00j,\n",
      "         0.02805668+0.00000000e+00j, ..., -0.04597989-9.50628854e-03j,\n",
      "        -0.01580949-3.81317201e-03j, -0.01580949+3.81317201e-03j],\n",
      "       [-0.00365512+0.00000000e+00j,  0.01479832+0.00000000e+00j,\n",
      "         0.00548123+0.00000000e+00j, ..., -0.03408083-5.82631902e-03j,\n",
      "        -0.04825282+1.05265021e-05j, -0.04825282-1.05265021e-05j]]), array([[ 0.08536586, -0.01626731, -0.07672237, ..., -0.0149118 ,\n",
      "         0.00239363,  0.00105933],\n",
      "       [ 0.06951191,  0.00528588, -0.14189508, ..., -0.00921361,\n",
      "        -0.06825243, -0.07473559],\n",
      "       [-0.02695469, -0.01970312,  0.00277346, ...,  0.04107752,\n",
      "         0.06286957, -0.08055944],\n",
      "       ...,\n",
      "       [ 0.0106524 ,  0.03034039, -0.06769527, ...,  0.02713808,\n",
      "        -0.04821428, -0.01777351],\n",
      "       [-0.03834998, -0.16772964,  0.00303104, ...,  0.08075838,\n",
      "         0.19085455, -0.01669923],\n",
      "       [-0.10964335,  0.04368517,  0.09573303, ...,  0.1110174 ,\n",
      "        -0.02022555,  0.16856228]]), array([[ 1.47105012e-03+0.j, -4.30031569e-03+0.j, -1.05880032e-02+0.j,\n",
      "        ..., -7.27449412e-04+0.j, -5.95457588e-05+0.j,\n",
      "        -4.04618850e-06+0.j],\n",
      "       [ 4.00922254e-03+0.j,  2.83886971e-02+0.j,  1.97166752e-02+0.j,\n",
      "        ...,  1.43457319e-04+0.j,  1.50229848e-05+0.j,\n",
      "         7.25423810e-06+0.j],\n",
      "       [ 4.58247328e-03+0.j,  7.64551008e-03+0.j, -3.97214163e-03+0.j,\n",
      "        ...,  3.48971924e-05+0.j, -2.13649377e-06+0.j,\n",
      "        -2.71237101e-06+0.j],\n",
      "       ...,\n",
      "       [ 4.80834456e-04+0.j,  3.40075164e-03+0.j, -4.94815067e-04+0.j,\n",
      "        ..., -4.74864425e-02+0.j, -6.75969259e-03+0.j,\n",
      "        -4.80194512e-03+0.j],\n",
      "       [ 1.15975360e-02+0.j,  1.68095542e-03+0.j,  2.84476187e-03+0.j,\n",
      "        ...,  2.11152435e-03+0.j,  4.15410284e-04+0.j,\n",
      "         9.01626533e-05+0.j],\n",
      "       [ 6.66977628e-03+0.j, -1.11918977e-03+0.j,  1.49048042e-03+0.j,\n",
      "        ...,  1.41247785e-02+0.j,  1.93157972e-03+0.j,\n",
      "         1.92309985e-03+0.j]]), array([[-0.15202737, -0.07758257, -0.04627422, ...,  0.00082789,\n",
      "         0.00182582,  0.0243248 ],\n",
      "       [ 0.04360474,  0.01996871,  0.12966632, ..., -0.02343112,\n",
      "         0.05657972,  0.00646803],\n",
      "       [-0.11872392, -0.06662831,  0.02191494, ...,  0.12576913,\n",
      "        -0.04558457, -0.02053149],\n",
      "       ...,\n",
      "       [ 0.06388054,  0.02853372,  0.0087684 , ..., -0.05099209,\n",
      "         0.08585417,  0.0612219 ],\n",
      "       [-0.10257473, -0.16478888,  0.03025596, ...,  0.01292095,\n",
      "         0.1279341 ,  0.07599024],\n",
      "       [-0.18669026,  0.08000857,  0.095708  , ..., -0.02265224,\n",
      "         0.00853743, -0.00177315]]), array([[ 0.00062684+0.j        , -0.00336873+0.j        ,\n",
      "         0.03391525+0.j        , ...,  0.0029774 +0.0026286j ,\n",
      "         0.0029774 -0.0026286j , -0.00369313+0.j        ],\n",
      "       [ 0.01058434+0.j        ,  0.00555389+0.j        ,\n",
      "        -0.01291833+0.j        , ...,  0.00235937-0.0019474j ,\n",
      "         0.00235937+0.0019474j , -0.00347737+0.j        ],\n",
      "       [ 0.0014565 +0.j        ,  0.00557336+0.j        ,\n",
      "        -0.09455289+0.j        , ...,  0.00022141-0.00075844j,\n",
      "         0.00022141+0.00075844j,  0.00139661+0.j        ],\n",
      "       ...,\n",
      "       [-0.00825724+0.j        ,  0.01567381+0.j        ,\n",
      "         0.02409551+0.j        , ...,  0.03450134+0.01724817j,\n",
      "         0.03450134-0.01724817j, -0.01063462+0.j        ],\n",
      "       [-0.02779748+0.j        ,  0.08021726+0.j        ,\n",
      "         0.02835714+0.j        , ..., -0.00210681-0.01781794j,\n",
      "        -0.00210681+0.01781794j,  0.01003388+0.j        ],\n",
      "       [ 0.03284012+0.j        , -0.01327787+0.j        ,\n",
      "         0.03074361+0.j        , ..., -0.00711063-0.00755399j,\n",
      "        -0.00711063+0.00755399j, -0.01139097+0.j        ]])]\n"
     ]
    }
   ],
   "source": [
    "eig_vec = []\n",
    "eig_val = []\n",
    "\n",
    "#print(data_sub_mean.loc[img_index_group[0]])\n",
    "\n",
    "for i in range(len(img_index_group)):\n",
    "    matrix = data_sub_mean.loc[img_index_group[i]].transpose() #Last transpose is because of different data shape\n",
    "    val, vec = np.linalg.eig(matrix.transpose().dot(matrix))\n",
    "    eig_val.append(val)\n",
    "    eig_vec.append(vec)\n",
    "\n",
    "print(eig_val)\n",
    "print(eig_vec)\n"
   ]
  },
  {
   "cell_type": "markdown",
   "metadata": {},
   "source": [
    "### Sorting the Eigenvectors acording to the size of their corresponding Eigenvalues\n",
    "\n",
    "Corresponding E.5"
   ]
  },
  {
   "cell_type": "code",
   "execution_count": 49,
   "metadata": {},
   "outputs": [],
   "source": [
    "for i in range(len(img_index_group)):\n",
    "    idx = eig_val[i].argsort()[::-1]\n",
    "    eig_val[i] = eig_val[i][idx]\n",
    "    eig_vec[i] = eig_vec[i][:, idx]"
   ]
  },
  {
   "cell_type": "markdown",
   "metadata": {},
   "source": [
    "## Finishing Calculation and normalization of real EV \n",
    "\n",
    "Corresponding E.6 and E.7\n",
    "\n",
    "TODO: Why is the calculation complex in the first place, should be real\n",
    "\n",
    "Can be partially solved by casting comp as real but not for all caths"
   ]
  },
  {
   "cell_type": "code",
   "execution_count": 50,
   "metadata": {},
   "outputs": [
    {
     "name": "stderr",
     "output_type": "stream",
     "text": [
      "c:\\Users\\luisw\\AppData\\Local\\Programs\\Python\\Python310\\lib\\site-packages\\pandas\\core\\dtypes\\cast.py:1181: ComplexWarning: Casting complex values to real discards the imaginary part\n",
      "  return arr.astype(dtype, copy=True)\n"
     ]
    },
    {
     "name": "stdout",
     "output_type": "stream",
     "text": [
      "                  0           1           2           3          4     \\\n",
      "pixel0000  1424.586721  626.620460  731.041900 -345.817350  57.333478   \n",
      "pixel0001  1404.178898  567.885003  692.399375 -350.368018  61.566450   \n",
      "pixel0002  1321.716308  500.020533  610.838215 -301.818039  59.816198   \n",
      "pixel0003  1217.401715  433.855217  507.663326 -244.274310  65.412214   \n",
      "pixel0004  1093.968730  347.662440  374.482049 -184.356390  93.248788   \n",
      "...                ...         ...         ...         ...        ...   \n",
      "pixel0779   961.724568  299.825836  128.332242   78.500123 -36.143944   \n",
      "pixel0780  1150.737619  430.806368  288.684516   11.592931 -44.975326   \n",
      "pixel0781  1294.978627  560.850760  440.087256  -46.327394 -48.909089   \n",
      "pixel0782  1382.114281  688.512562  540.816044  -74.807280 -46.822204   \n",
      "pixel0783  1423.713090  780.902091  585.615390  -70.743979 -37.927959   \n",
      "\n",
      "                 5           6          7           8           9     ...  \\\n",
      "pixel0000  469.180287 -382.374580 -16.539377 -138.633403   42.938055  ...   \n",
      "pixel0001  456.376086 -312.838250 -38.799587 -145.345969   70.166606  ...   \n",
      "pixel0002  375.442743 -178.447259 -28.569873 -187.041234   87.381888  ...   \n",
      "pixel0003  251.932214  -55.213056 -17.204939 -232.251711   93.703242  ...   \n",
      "pixel0004  147.830250   43.116980 -29.925299 -237.387942   99.065269  ...   \n",
      "...               ...         ...        ...         ...         ...  ...   \n",
      "pixel0779 -173.159123  -50.057704 -17.999290  183.640460 -175.435212  ...   \n",
      "pixel0780  -53.703839 -141.190654  -5.643323  267.979942 -177.577764  ...   \n",
      "pixel0781  100.369124 -267.552025  -1.375827  367.251734 -172.432489  ...   \n",
      "pixel0782  210.844255 -383.425184   8.308165  415.915714 -162.221575  ...   \n",
      "pixel0783  258.482269 -462.289970  28.662595  411.883298 -149.427569  ...   \n",
      "\n",
      "                   1103          1104          1105          1106  \\\n",
      "pixel0000  2.522427e-12  2.522427e-12  1.925571e-12  1.925571e-12   \n",
      "pixel0001 -9.521273e-13 -9.521273e-13 -3.037570e-12 -3.037570e-12   \n",
      "pixel0002  2.060574e-13  2.060574e-13 -8.437695e-13 -8.437695e-13   \n",
      "pixel0003 -1.058709e-12 -1.058709e-12  6.519230e-13  6.519230e-13   \n",
      "pixel0004 -5.897505e-13 -5.897505e-13  1.546319e-12  1.546319e-12   \n",
      "...                 ...           ...           ...           ...   \n",
      "pixel0779 -8.739676e-13 -8.739676e-13 -2.450040e-12 -2.450040e-12   \n",
      "pixel0780 -2.003731e-12 -2.003731e-12  2.051692e-12  2.051692e-12   \n",
      "pixel0781  2.419398e-12  2.419398e-12  1.989520e-12  1.989520e-12   \n",
      "pixel0782 -2.067679e-12 -2.067679e-12 -4.046541e-12 -4.046541e-12   \n",
      "pixel0783  1.033840e-12  1.033840e-12  3.396394e-12  3.396394e-12   \n",
      "\n",
      "                   1107          1108          1109          1110  \\\n",
      "pixel0000 -1.453060e-12 -1.453060e-12  6.892265e-13 -2.376765e-12   \n",
      "pixel0001  3.673506e-12  3.673506e-12 -4.689582e-13  4.899192e-12   \n",
      "pixel0002 -1.293188e-12 -1.293188e-12 -1.911360e-12 -3.577583e-12   \n",
      "pixel0003  2.913225e-13  2.913225e-13 -2.984279e-13  1.069367e-12   \n",
      "pixel0004  1.385558e-12  1.385558e-12 -4.334311e-13 -1.140421e-12   \n",
      "...                 ...           ...           ...           ...   \n",
      "pixel0779  4.618528e-13  4.618528e-13 -3.858247e-12 -6.306067e-12   \n",
      "pixel0780 -1.492140e-12 -1.492140e-12  1.207923e-12 -5.471179e-13   \n",
      "pixel0781 -1.865175e-12 -1.865175e-12  7.744916e-13  1.840306e-12   \n",
      "pixel0782  3.645084e-12  3.645084e-12 -4.220624e-12 -1.179501e-12   \n",
      "pixel0783 -1.634248e-12 -1.634248e-12  3.254286e-12 -2.629008e-13   \n",
      "\n",
      "                   1111          1112  \n",
      "pixel0000 -2.376765e-12 -2.312817e-12  \n",
      "pixel0001  4.899192e-12  3.453238e-12  \n",
      "pixel0002 -3.577583e-12 -3.805845e-13  \n",
      "pixel0003  1.069367e-12 -2.204015e-12  \n",
      "pixel0004 -1.140421e-12  9.497528e-12  \n",
      "...                 ...           ...  \n",
      "pixel0779 -6.306067e-12  6.554757e-12  \n",
      "pixel0780 -5.471179e-13 -4.661160e-12  \n",
      "pixel0781  1.840306e-12  2.771117e-13  \n",
      "pixel0782 -1.179501e-12  4.561684e-12  \n",
      "pixel0783 -2.629008e-13 -3.733902e-12  \n",
      "\n",
      "[784 rows x 1113 columns]\n"
     ]
    },
    {
     "name": "stderr",
     "output_type": "stream",
     "text": [
      "c:\\Users\\luisw\\AppData\\Local\\Programs\\Python\\Python310\\lib\\site-packages\\pandas\\core\\dtypes\\cast.py:1181: ComplexWarning: Casting complex values to real discards the imaginary part\n",
      "  return arr.astype(dtype, copy=True)\n",
      "c:\\Users\\luisw\\AppData\\Local\\Programs\\Python\\Python310\\lib\\site-packages\\pandas\\core\\dtypes\\cast.py:1181: ComplexWarning: Casting complex values to real discards the imaginary part\n",
      "  return arr.astype(dtype, copy=True)\n"
     ]
    }
   ],
   "source": [
    "eig = []\n",
    "\n",
    "for i in range(len(img_index_group)):\n",
    "    eig_cath = data_sub_mean.loc[img_index_group[i]].transpose().dot(eig_vec[i]) #transpose is because of different data shape\n",
    "    eig_cath = eig_cath.astype(np.float64) #applymap(np.absolute)\n",
    "    eig.append(normalize(eig_cath, norm='l2', axis=0))\n",
    "\n",
    "print(eig_cath)"
   ]
  },
  {
   "cell_type": "markdown",
   "metadata": {},
   "source": [
    "## Calculating of Principal Components C\n",
    "\n",
    "Corresponding to F\n",
    "\n",
    "TODO: Adaptation for Matrix calculation for Z"
   ]
  },
  {
   "cell_type": "code",
   "execution_count": 57,
   "metadata": {},
   "outputs": [
    {
     "data": {
      "image/png": "[encoded data removed]",
      "text/plain": [
       "<Figure size 640x480 with 1 Axes>"
      ]
     },
     "metadata": {},
     "output_type": "display_data"
    },
    {
     "data": {
      "image/png": "[encoded data removed]",
      "text/plain": [
       "<Figure size 640x480 with 1 Axes>"
      ]
     },
     "metadata": {},
     "output_type": "display_data"
    }
   ],
   "source": [
    "C = []\n",
    "for i in range(len(img_index_group)):\n",
    "    C.append(eig[i].transpose().dot(data_sub_mean.loc[img_index_group[i]].transpose()).transpose()) #Second to last transpose is because of different data shape\n",
    "\n",
    "df_pca = df.copy()\n",
    "\n",
    "\n",
    "img_idx = 0\n",
    "cath_idx = 0\n",
    "compression_factor = 0.9 \n",
    "\n",
    "for i in range(len(img_index_group)):\n",
    "    num_pca = round(len(C[i])*compression_factor)\n",
    "    for j in range(len(img_index_group[i])):\n",
    "        z = eig[i][:, :-num_pca].dot(C[i][j][:-num_pca]) + mean[i]\n",
    "        df_pca.loc[img_index_group[i][j]].iloc[:-1] = z.astype(np.int64)\n",
    "\n",
    "#z = eig[cath_idx][:, :-num_pca].dot(C[cath_idx][img_idx][:-num_pca]) + mean[cath_idx]\n",
    "#df_pca.loc[img_index_group[cath_idx][img_idx]].iloc[:-1] = z.astype(np.int64)\n",
    "\n",
    "disp_img(df_pca.loc[img_index_group[cath_idx][img_idx]])\n",
    "cath_imgs = data.iloc[img_index_group[cath_idx]]\n",
    "disp_img(cath_imgs.iloc[img_idx])\n"
   ]
  },
  {
   "cell_type": "code",
   "execution_count": 58,
   "metadata": {},
   "outputs": [],
   "source": [
    "df_pca.to_csv('data/hmnist_28_28_L_pcaRed.csv')"
   ]
  },
  {
   "cell_type": "markdown",
   "metadata": {},
   "source": [
    "## Trying PCS with only one cathegory to simplify"
   ]
  },
  {
   "cell_type": "code",
   "execution_count": 53,
   "metadata": {},
   "outputs": [
    {
     "name": "stdout",
     "output_type": "stream",
     "text": [
      "Mean\n",
      "pixel0000    141.951070\n",
      "pixel0001    148.571865\n",
      "pixel0002    154.773700\n",
      "pixel0003    160.703364\n",
      "pixel0004    165.149847\n",
      "                ...    \n",
      "pixel0779    158.648318\n",
      "pixel0780    154.813456\n",
      "pixel0781    149.571865\n",
      "pixel0782    142.165138\n",
      "pixel0783    135.253823\n",
      "Length: 784, dtype: float64\n"
     ]
    },
    {
     "data": {
      "image/png": "[encoded data removed]",
      "text/plain": [
       "<Figure size 640x480 with 1 Axes>"
      ]
     },
     "metadata": {},
     "output_type": "display_data"
    },
    {
     "name": "stdout",
     "output_type": "stream",
     "text": [
      "(784, 327)\n",
      "Reconstructed Image\n"
     ]
    },
    {
     "data": {
      "image/png": "[encoded data removed]",
      "text/plain": [
       "<Figure size 640x480 with 1 Axes>"
      ]
     },
     "metadata": {},
     "output_type": "display_data"
    },
    {
     "name": "stdout",
     "output_type": "stream",
     "text": [
      "Actual image\n"
     ]
    },
    {
     "data": {
      "image/png": "[encoded data removed]",
      "text/plain": [
       "<Figure size 640x480 with 1 Axes>"
      ]
     },
     "metadata": {},
     "output_type": "display_data"
    }
   ],
   "source": [
    "data_1 = df.loc[img_index_group[0]]\n",
    "data_1 = data_1.iloc[:, :-1]\n",
    "\n",
    "mean_1 = np.mean(data_1, axis=0)\n",
    "print(\"Mean\")\n",
    "print(mean_1)\n",
    "disp_img(mean_1)\n",
    "\n",
    "\n",
    "data_submean = data_1 - mean_1\n",
    "data_submean = data_submean.transpose()\n",
    "\n",
    "eval, evec = np.linalg.eig(data_submean.transpose().dot(data_submean))\n",
    "\n",
    "idx1 = eval.argsort()[::-1]\n",
    "eval = eval[idx1]\n",
    "evec = evec[:, idx1]\n",
    "\n",
    "\n",
    "U = data_submean.dot(evec)\n",
    "\n",
    "U = normalize(U, norm='l2', axis=0)\n",
    "\n",
    "C1 = U.transpose().dot(data_submean).transpose()\n",
    "\n",
    "#print(\"First eigenvector\")\n",
    "#disp_img(U[:, 0])\n",
    "#print(\"Second eigenvector\")\n",
    "#disp_img(U[:, 1])\n",
    "\n",
    "img_index = 0\n",
    "z = U.dot(C1[img_index]) + mean_1\n",
    "\n",
    "print(U.shape)\n",
    "\n",
    "print(\"Reconstructed Image\")\n",
    "disp_img(z)\n",
    "\n",
    "print(\"Actual image\")\n",
    "disp_img(data_1.iloc[img_index])\n",
    "\n"
   ]
  }
 ],
 "metadata": {
  "kernelspec": {
   "display_name": "Python 3.10.4 64-bit",
   "language": "python",
   "name": "python3"
  },
  "language_info": {
   "codemirror_mode": {
    "name": "ipython",
    "version": 3
   },
   "file_extension": ".py",
   "mimetype": "text/x-python",
   "name": "python",
   "nbconvert_exporter": "python",
   "pygments_lexer": "ipython3",
   "version": "3.10.4"
  },
  "orig_nbformat": 4,
  "vscode": {
   "interpreter": {
    "hash": "871995a1d3e01d9b1f67d0fc506e3f7e745227d1150201e5610c1769147c6906"
   }
  }
 },
 "nbformat": 4,
 "nbformat_minor": 2
}
