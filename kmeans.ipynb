{
 "cells": [
  {
   "cell_type": "markdown",
   "metadata": {},
   "source": [
    "# K-Means Clustering on the data set"
   ]
  },
  {
   "cell_type": "markdown",
   "metadata": {},
   "source": [
    "## Libraries"
   ]
  },
  {
   "cell_type": "code",
   "execution_count": null,
   "metadata": {},
   "outputs": [],
   "source": [
    "import pandas as pd\n",
    "import numpy as np\n",
    "import math\n",
    "%matplotlib inline\n",
    "from matplotlib import pyplot as plt\n",
    "import random\n",
    "random.seed(1)"
   ]
  },
  {
   "cell_type": "markdown",
   "metadata": {},
   "source": [
    "## Importing the data set\n",
    "Our dataset contains images of the **HAM10000** dataset, a large collection of multi-source dermatoscopic images of common pigmented skin lesions."
   ]
  },
  {
   "cell_type": "code",
   "execution_count": null,
   "metadata": {},
   "outputs": [],
   "source": [
    "# IMPORTANT: Filepath depends on OS!\n",
    "df = pd.read_csv(r'data/hmnist_28_28_L.csv')\n",
    "print(df) # Shape (#images, h*w+1) (here: (10015, 785))"
   ]
  },
  {
   "cell_type": "markdown",
   "metadata": {},
   "source": [
    "## Displaying an image"
   ]
  },
  {
   "cell_type": "code",
   "execution_count": null,
   "metadata": {},
   "outputs": [],
   "source": [
    "def disp_img(data_vec):\n",
    "    # Handle the cases of whether the label for an image is provided or not\n",
    "    if math.sqrt(np.size(data_vec)) != int(math.sqrt(np.size(data_vec))):\n",
    "        img_label = data_vec[-1]\n",
    "        img_vec = data_vec[0:-1]\n",
    "    else:\n",
    "        img_vec = data_vec\n",
    "\n",
    "    size = np.size(img_vec)\n",
    "    dimension = int(math.sqrt(size))\n",
    "\n",
    "    img_mat = np.reshape(np.array(img_vec), (dimension, dimension))\n",
    "\n",
    "    plt.imshow(img_mat)\n",
    "    plt.show()\n",
    "\n",
    "\n",
    "img_number = 9869 # Index of a particular data image\n",
    "data_vec = df.loc[img_number]\n",
    "\n",
    "disp_img(data_vec)"
   ]
  },
  {
   "cell_type": "markdown",
   "metadata": {},
   "source": [
    "## Count occurences of labels\n",
    "\n",
    "Count the number of data images corresponding to each label."
   ]
  },
  {
   "cell_type": "code",
   "execution_count": null,
   "metadata": {},
   "outputs": [],
   "source": [
    "label = df['label']\n",
    "uniq_label, counts_label = np.unique(label, return_counts=True)\n",
    "\n",
    "# Each tuple will contain a label and the number of images with the same label\n",
    "# [(label, #occurences), ..]\n",
    "occurences = list(zip(uniq_label, counts_label))\n",
    "print(occurences)"
   ]
  },
  {
   "cell_type": "markdown",
   "metadata": {},
   "source": [
    "# Partition the images into the different classes\n",
    "Create a list of nested lists. Each nested list represents a label and contains the indices of all data images with the same label. E.g. img_index_group[2] contains all images for label 2."
   ]
  },
  {
   "cell_type": "code",
   "execution_count": null,
   "metadata": {},
   "outputs": [],
   "source": [
    "# List of 7 nested lists (for each diagnostical categorie)\n",
    "# The ith nested list contains the indices of all images, which correspond to label i\n",
    "# E.g. img_index_group[2] contains all images for label 2\n",
    "img_index_group = []\n",
    "\n",
    "for i in range(len(uniq_label)):\n",
    "    img_index_group.append([])\n",
    "    for j in range(df.shape[0]):\n",
    "        if df['label'][j] == i:\n",
    "            img_index_group[i].append(j)\n",
    "\n",
    "# Output would exceed the size limit\n",
    "# print(img_index_group)\n",
    "\n",
    "# For debugging purposes\n",
    "# print(list((i, len(img_index_group[i])) for i in range(len(img_index_group))))"
   ]
  },
  {
   "cell_type": "markdown",
   "metadata": {},
   "source": [
    "# Splitting into training and testing data"
   ]
  },
  {
   "cell_type": "code",
   "execution_count": null,
   "metadata": {},
   "outputs": [],
   "source": [
    "training_split = 0.9                #Percentage of Data used for training\n",
    "img_index_group_split = []          #Same as img_index_group but every nested list is split into two lists: first is list for training, second is list for testing\n",
    "\n",
    "for i in range(len(img_index_group)):\n",
    "    random.shuffle(img_index_group[i])\n",
    "    split_point = round(len(img_index_group[i])*training_split)\n",
    "    img_index_group_split.append([img_index_group[i][:split_point], img_index_group[i][split_point:]])\n",
    "    \n",
    "    #print(i)\n",
    "    #print(len(img_index_group_split[i][0]))\n",
    "    #print(len(img_index_group_split[i][1]))\n",
    "\n",
    "#print(img_index_group_split)"
   ]
  },
  {
   "cell_type": "markdown",
   "metadata": {},
   "source": [
    "## Merging the different training data sets into one and discaring the labels"
   ]
  },
  {
   "cell_type": "code",
   "execution_count": null,
   "metadata": {},
   "outputs": [],
   "source": []
  },
  {
   "cell_type": "markdown",
   "metadata": {},
   "source": [
    "## K-Means Clustering of the testing data"
   ]
  },
  {
   "cell_type": "code",
   "execution_count": null,
   "metadata": {},
   "outputs": [],
   "source": []
  },
  {
   "cell_type": "markdown",
   "metadata": {},
   "source": [
    "## Matching the calculated clusters to the different diagnosis"
   ]
  },
  {
   "cell_type": "code",
   "execution_count": null,
   "metadata": {},
   "outputs": [],
   "source": []
  },
  {
   "cell_type": "markdown",
   "metadata": {},
   "source": [
    "## Feeding the training data and calculating the accuracy"
   ]
  },
  {
   "cell_type": "code",
   "execution_count": null,
   "metadata": {},
   "outputs": [],
   "source": []
  }
 ],
 "metadata": {
  "kernelspec": {
   "display_name": "Python 3.10.4 64-bit",
   "language": "python",
   "name": "python3"
  },
  "language_info": {
   "name": "python",
   "version": "3.10.4"
  },
  "orig_nbformat": 4,
  "vscode": {
   "interpreter": {
    "hash": "871995a1d3e01d9b1f67d0fc506e3f7e745227d1150201e5610c1769147c6906"
   }
  }
 },
 "nbformat": 4,
 "nbformat_minor": 2
}
