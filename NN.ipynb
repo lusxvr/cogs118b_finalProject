{
  "cells": [
    {
      "cell_type": "code",
      "execution_count": 72,
      "metadata": {
        "id": "HB8S_0ScH7GC"
      },
      "outputs": [],
      "source": [
        "import pandas as pd\n",
        "import numpy as np\n",
        "import math\n",
        "import io\n",
        "import random\n",
        "random.seed(1)\n",
        "from matplotlib import pyplot as plt\n",
        "\n",
        "import torch\n",
        "from tqdm import tqdm\n",
        "import torch.nn as nn\n",
        "import torch.nn.functional as F\n",
        "import torch.optim as optim\n",
        "from torch.autograd import Variable"
      ]
    },
    {
      "cell_type": "markdown",
      "metadata": {
        "id": "IkMC56PA-zpX"
      },
      "source": [
        "## Importing the dataset"
      ]
    },
    {
      "cell_type": "code",
      "execution_count": 71,
      "metadata": {
        "colab": {
          "base_uri": "https://localhost:8080/",
          "height": 108
        },
        "id": "iv-jCqtzH7GD",
        "outputId": "d4ddfc78-3545-4d83-8836-6947fdbd1b49"
      },
      "outputs": [
        {
          "data": {
            "text/html": [
              "\n",
              "     <input type=\"file\" id=\"files-898a669b-177b-4172-a726-45d1cfaad764\" name=\"files[]\" multiple disabled\n",
              "        style=\"border:none\" />\n",
              "     <output id=\"result-898a669b-177b-4172-a726-45d1cfaad764\">\n",
              "      Upload widget is only available when the cell has been executed in the\n",
              "      current browser session. Please rerun this cell to enable.\n",
              "      </output>\n",
              "      <script>// Copyright 2017 Google LLC\n",
              "//\n",
              "// Licensed under the Apache License, Version 2.0 (the \"License\");\n",
              "// you may not use this file except in compliance with the License.\n",
              "// You may obtain a copy of the License at\n",
              "//\n",
              "//      http://www.apache.org/licenses/LICENSE-2.0\n",
              "//\n",
              "// Unless required by applicable law or agreed to in writing, software\n",
              "// distributed under the License is distributed on an \"AS IS\" BASIS,\n",
              "// WITHOUT WARRANTIES OR CONDITIONS OF ANY KIND, either express or implied.\n",
              "// See the License for the specific language governing permissions and\n",
              "// limitations under the License.\n",
              "\n",
              "/**\n",
              " * @fileoverview Helpers for google.colab Python module.\n",
              " */\n",
              "(function(scope) {\n",
              "function span(text, styleAttributes = {}) {\n",
              "  const element = document.createElement('span');\n",
              "  element.textContent = text;\n",
              "  for (const key of Object.keys(styleAttributes)) {\n",
              "    element.style[key] = styleAttributes[key];\n",
              "  }\n",
              "  return element;\n",
              "}\n",
              "\n",
              "// Max number of bytes which will be uploaded at a time.\n",
              "const MAX_PAYLOAD_SIZE = 100 * 1024;\n",
              "\n",
              "function _uploadFiles(inputId, outputId) {\n",
              "  const steps = uploadFilesStep(inputId, outputId);\n",
              "  const outputElement = document.getElementById(outputId);\n",
              "  // Cache steps on the outputElement to make it available for the next call\n",
              "  // to uploadFilesContinue from Python.\n",
              "  outputElement.steps = steps;\n",
              "\n",
              "  return _uploadFilesContinue(outputId);\n",
              "}\n",
              "\n",
              "// This is roughly an async generator (not supported in the browser yet),\n",
              "// where there are multiple asynchronous steps and the Python side is going\n",
              "// to poll for completion of each step.\n",
              "// This uses a Promise to block the python side on completion of each step,\n",
              "// then passes the result of the previous step as the input to the next step.\n",
              "function _uploadFilesContinue(outputId) {\n",
              "  const outputElement = document.getElementById(outputId);\n",
              "  const steps = outputElement.steps;\n",
              "\n",
              "  const next = steps.next(outputElement.lastPromiseValue);\n",
              "  return Promise.resolve(next.value.promise).then((value) => {\n",
              "    // Cache the last promise value to make it available to the next\n",
              "    // step of the generator.\n",
              "    outputElement.lastPromiseValue = value;\n",
              "    return next.value.response;\n",
              "  });\n",
              "}\n",
              "\n",
              "/**\n",
              " * Generator function which is called between each async step of the upload\n",
              " * process.\n",
              " * @param {string} inputId Element ID of the input file picker element.\n",
              " * @param {string} outputId Element ID of the output display.\n",
              " * @return {!Iterable<!Object>} Iterable of next steps.\n",
              " */\n",
              "function* uploadFilesStep(inputId, outputId) {\n",
              "  const inputElement = document.getElementById(inputId);\n",
              "  inputElement.disabled = false;\n",
              "\n",
              "  const outputElement = document.getElementById(outputId);\n",
              "  outputElement.innerHTML = '';\n",
              "\n",
              "  const pickedPromise = new Promise((resolve) => {\n",
              "    inputElement.addEventListener('change', (e) => {\n",
              "      resolve(e.target.files);\n",
              "    });\n",
              "  });\n",
              "\n",
              "  const cancel = document.createElement('button');\n",
              "  inputElement.parentElement.appendChild(cancel);\n",
              "  cancel.textContent = 'Cancel upload';\n",
              "  const cancelPromise = new Promise((resolve) => {\n",
              "    cancel.onclick = () => {\n",
              "      resolve(null);\n",
              "    };\n",
              "  });\n",
              "\n",
              "  // Wait for the user to pick the files.\n",
              "  const files = yield {\n",
              "    promise: Promise.race([pickedPromise, cancelPromise]),\n",
              "    response: {\n",
              "      action: 'starting',\n",
              "    }\n",
              "  };\n",
              "\n",
              "  cancel.remove();\n",
              "\n",
              "  // Disable the input element since further picks are not allowed.\n",
              "  inputElement.disabled = true;\n",
              "\n",
              "  if (!files) {\n",
              "    return {\n",
              "      response: {\n",
              "        action: 'complete',\n",
              "      }\n",
              "    };\n",
              "  }\n",
              "\n",
              "  for (const file of files) {\n",
              "    const li = document.createElement('li');\n",
              "    li.append(span(file.name, {fontWeight: 'bold'}));\n",
              "    li.append(span(\n",
              "        `(${file.type || 'n/a'}) - ${file.size} bytes, ` +\n",
              "        `last modified: ${\n",
              "            file.lastModifiedDate ? file.lastModifiedDate.toLocaleDateString() :\n",
              "                                    'n/a'} - `));\n",
              "    const percent = span('0% done');\n",
              "    li.appendChild(percent);\n",
              "\n",
              "    outputElement.appendChild(li);\n",
              "\n",
              "    const fileDataPromise = new Promise((resolve) => {\n",
              "      const reader = new FileReader();\n",
              "      reader.onload = (e) => {\n",
              "        resolve(e.target.result);\n",
              "      };\n",
              "      reader.readAsArrayBuffer(file);\n",
              "    });\n",
              "    // Wait for the data to be ready.\n",
              "    let fileData = yield {\n",
              "      promise: fileDataPromise,\n",
              "      response: {\n",
              "        action: 'continue',\n",
              "      }\n",
              "    };\n",
              "\n",
              "    // Use a chunked sending to avoid message size limits. See b/62115660.\n",
              "    let position = 0;\n",
              "    do {\n",
              "      const length = Math.min(fileData.byteLength - position, MAX_PAYLOAD_SIZE);\n",
              "      const chunk = new Uint8Array(fileData, position, length);\n",
              "      position += length;\n",
              "\n",
              "      const base64 = btoa(String.fromCharCode.apply(null, chunk));\n",
              "      yield {\n",
              "        response: {\n",
              "          action: 'append',\n",
              "          file: file.name,\n",
              "          data: base64,\n",
              "        },\n",
              "      };\n",
              "\n",
              "      let percentDone = fileData.byteLength === 0 ?\n",
              "          100 :\n",
              "          Math.round((position / fileData.byteLength) * 100);\n",
              "      percent.textContent = `${percentDone}% done`;\n",
              "\n",
              "    } while (position < fileData.byteLength);\n",
              "  }\n",
              "\n",
              "  // All done.\n",
              "  yield {\n",
              "    response: {\n",
              "      action: 'complete',\n",
              "    }\n",
              "  };\n",
              "}\n",
              "\n",
              "scope.google = scope.google || {};\n",
              "scope.google.colab = scope.google.colab || {};\n",
              "scope.google.colab._files = {\n",
              "  _uploadFiles,\n",
              "  _uploadFilesContinue,\n",
              "};\n",
              "})(self);\n",
              "</script> "
            ],
            "text/plain": [
              "<IPython.core.display.HTML object>"
            ]
          },
          "metadata": {},
          "output_type": "display_data"
        },
        {
          "name": "stdout",
          "output_type": "stream",
          "text": [
            "Saving hmnist_28_28_L_pcaRed.csv to hmnist_28_28_L_pcaRed (2).csv\n",
            "Saving hmnist_28_28_L.csv to hmnist_28_28_L (2).csv\n"
          ]
        }
      ],
      "source": [
        "from google.colab import files\n",
        " \n",
        "# Load dataset\n",
        "# Upload neccesary to run the NN on Colab\n",
        "uploaded = files.upload()\n",
        "df = pd.read_csv(io.BytesIO(uploaded['hmnist_28_28_L.csv']))\n",
        "\n",
        "# Run the following line if the dataset can be loaded locally\n",
        "# df = pd.read_csv(r'data/hmnist_28_28_L.csv')"
      ]
    },
    {
      "cell_type": "markdown",
      "metadata": {
        "id": "YXBf3liOaWJi"
      },
      "source": [
        "## Partitioning the dataset into training & testing data"
      ]
    },
    {
      "cell_type": "code",
      "execution_count": 93,
      "metadata": {
        "id": "6b0qY4GwoZvJ"
      },
      "outputs": [],
      "source": [
        "# Hyperparameters\n",
        "split_index = 9000 # The index at which the dataset is being partitioned\n",
        "num_classes = 7"
      ]
    },
    {
      "cell_type": "code",
      "execution_count": 94,
      "metadata": {
        "id": "T22fVdsAH7GE"
      },
      "outputs": [],
      "source": [
        "images = df.to_numpy()\n",
        "num_images = np.size(images, axis=0) # Number of data images in total\n",
        "dim = int(math.sqrt(np.size(images[0]))) # Side lengths of the images\n",
        "\n",
        "# Randomly rearrange the order of the images\n",
        "img_perm = np.random.permutation(images)\n",
        "# The image labels\n",
        "labels = img_perm[:, -1]\n",
        "# The images themselves\n",
        "img_perm = img_perm[:, 0:-1]\n",
        "img_perm = np.reshape(img_perm, (num_images, dim, dim, 1)) # Shape: (#images, dim, dim, 1)\n",
        "\n",
        "# Training data\n",
        "train_labels = labels[:split_index]\n",
        "train_imgs = img_perm[:split_index].transpose((0, 3, 1, 2))\n",
        "\n",
        "test_labels = labels[split_index:]\n",
        "test_imgs = img_perm[split_index:].transpose((0, 3, 1, 2))"
      ]
    },
    {
      "cell_type": "markdown",
      "metadata": {
        "id": "DMqoqlV0BtAM"
      },
      "source": [
        "## Constructing the neural network"
      ]
    },
    {
      "cell_type": "code",
      "execution_count": 114,
      "metadata": {
        "id": "57rUru9pH7GE"
      },
      "outputs": [],
      "source": [
        "class NN(nn.Module):\n",
        "    def __init__(self):\n",
        "        super(NN, self).__init__()\n",
        "        \n",
        "        self.conv1 = nn.Conv2d(1, 32, kernel_size=5, stride=1, padding=2, bias=True)\n",
        "        self.conv2 = nn.Conv2d(32, 64, kernel_size=5, stride=1, padding=2, bias=True)\n",
        "        self.conv3 = nn.Conv2d(64, 128, kernel_size=5, stride=1, padding=2, bias=True)\n",
        "\n",
        "        self.fc1 = nn.Linear(128*3*3, 1024)\n",
        "        self.dropl = nn.Dropout(0.5)\n",
        "        self.fc2 = nn.Linear(1024, num_classes)\n",
        "        \n",
        "    def forward(self, x):\n",
        "        x = self.conv1(x)\n",
        "        x = F.relu(x)\n",
        "        x = F.max_pool2d(x, kernel_size=2, stride=2)\n",
        "        x = self.conv2(x)\n",
        "        x = F.relu(x)\n",
        "        x = F.max_pool2d(x, kernel_size=2, stride=2)\n",
        "        x = self.conv3(x)\n",
        "        x = F.relu(x)\n",
        "        x = F.max_pool2d(x, kernel_size=2, stride=2)\n",
        "        \n",
        "        x = torch.flatten(x, 1)\n",
        "        x = self.fc1(x)\n",
        "        x = F.relu(x)\n",
        "        x = self.dropl(x)\n",
        "        x = self.fc2(x)\n",
        "\n",
        "        return x"
      ]
    },
    {
      "cell_type": "markdown",
      "metadata": {
        "id": "oKdvjTDqB8x0"
      },
      "source": [
        "## The training function"
      ]
    },
    {
      "cell_type": "code",
      "execution_count": 115,
      "metadata": {
        "id": "F_CITRYzH7GF"
      },
      "outputs": [],
      "source": [
        "def train(tdata, tlabel, net, to_train):\n",
        "    criterion = nn.CrossEntropyLoss()\n",
        "    losslist = []\n",
        "    acclist=[]\n",
        "    \n",
        "    # Hyperparameters\n",
        "    epochs = 25\n",
        "    batch = 200\n",
        "    learning_rate = 0.001\n",
        "    optimizer = optim.Adam(to_train, lr=learning_rate)\n",
        "    \n",
        "    for k in tqdm(range(epochs)):\n",
        "        for l in range(int(len(tdata) / batch)):\n",
        "            inds = np.random.randint(0, len(tdata)-1, batch)\n",
        "            inputs = Variable(torch.FloatTensor(tdata[inds]).cuda())\n",
        "            targets = Variable(torch.LongTensor(tlabel[inds]).cuda())\n",
        "            \n",
        "            # Zero grad optimizer\n",
        "            optimizer.zero_grad()\n",
        "            # Forward propagation\n",
        "            pred = net(inputs)\n",
        "            loss = criterion(pred, targets)\n",
        "            # Backpropagation\n",
        "            loss.backward()\n",
        "            optimizer.step()\n",
        "            acc = np.mean(np.argmax(pred.data.cpu().numpy(),1) == tlabel[inds])\n",
        "\n",
        "            loss = loss.detach().cpu().numpy()\n",
        "            losslist.append(loss)\n",
        "            acclist.append(acc)\n",
        "\n",
        "    return losslist, acclist\n",
        "\n",
        "\n",
        "def test(tdata, tlabel, net):\n",
        "    inputs = Variable(torch.FloatTensor(tdata).cuda())\n",
        "    targets = Variable(torch.LongTensor(tlabel).cuda())\n",
        "    prediction = net(inputs)\n",
        "    acc = np.mean(np.argmax(prediction.data.cpu().numpy(),1) == tlabel)\n",
        "\n",
        "    return acc"
      ]
    },
    {
      "cell_type": "markdown",
      "metadata": {
        "id": "JH80jCi9B_Po"
      },
      "source": [
        "## Training the model"
      ]
    },
    {
      "cell_type": "code",
      "execution_count": 116,
      "metadata": {
        "colab": {
          "base_uri": "https://localhost:8080/",
          "height": 315
        },
        "id": "WSvBRl2gH7GF",
        "outputId": "fe488ba2-7ade-47de-af0a-853152b7386a"
      },
      "outputs": [
        {
          "name": "stderr",
          "output_type": "stream",
          "text": [
            "100%|██████████| 25/25 [00:11<00:00,  2.23it/s]\n"
          ]
        },
        {
          "data": {
            "image/png": "[encoded data removed]",
            "text/plain": [
              "<Figure size 432x288 with 1 Axes>"
            ]
          },
          "metadata": {
            "needs_background": "light"
          },
          "output_type": "display_data"
        },
        {
          "name": "stdout",
          "output_type": "stream",
          "text": [
            "Accuracy: 0.6827586206896552\n"
          ]
        }
      ],
      "source": [
        "net = NN().cuda()\n",
        "_, acc = train(train_imgs, train_labels, net, net.parameters())\n",
        "ax = range(len(acc))\n",
        "plt.plot(ax, acc)\n",
        "plt.xlabel('#Iterations')\n",
        "plt.ylabel('Accuracy')\n",
        "plt.show()\n",
        "print('Accuracy: {}'.format(test(test_imgs, test_labels, net)))"
      ]
    },
    {
      "cell_type": "markdown",
      "metadata": {
        "id": "FqDBQ6RWWNM4"
      },
      "source": [
        "# Now do the same with the dataset where PCA has been performed"
      ]
    },
    {
      "cell_type": "code",
      "execution_count": 117,
      "metadata": {
        "id": "LtxIeyq_SEmr"
      },
      "outputs": [],
      "source": [
        "pca = pd.read_csv(io.BytesIO(uploaded['hmnist_28_28_L_pcaRed.csv'])).to_numpy()\n",
        "\n",
        "# Randomly rearrange the order of the images\n",
        "pca_perm = np.random.permutation(pca)\n",
        "# The image labels\n",
        "pca_labels = pca_perm[:, -1]\n",
        "# The images themselves\n",
        "pca_perm = pca_perm[:, 0:-1]\n",
        "pca_perm = np.reshape(pca_perm, (num_images, dim, dim, 1)) # Shape: (#images, dim, dim, 1)\n",
        "\n",
        "# Training data\n",
        "pca_train_labels = pca_labels[:split_index]\n",
        "pca_train_imgs = pca_perm[:split_index].transpose((0, 3, 1, 2))\n",
        "\n",
        "pca_test_labels = pca_labels[split_index:]\n",
        "pca_test_imgs = pca_perm[split_index:].transpose((0, 3, 1, 2))"
      ]
    },
    {
      "cell_type": "code",
      "execution_count": 120,
      "metadata": {
        "colab": {
          "base_uri": "https://localhost:8080/",
          "height": 316
        },
        "id": "qJp0WOFPXLbG",
        "outputId": "aab0cf14-491b-45b0-dc62-27847f1d4b7c"
      },
      "outputs": [
        {
          "name": "stderr",
          "output_type": "stream",
          "text": [
            "100%|██████████| 25/25 [00:11<00:00,  2.20it/s]\n"
          ]
        },
        {
          "data": {
            "image/png": "[encoded data removed]",
            "text/plain": [
              "<Figure size 432x288 with 1 Axes>"
            ]
          },
          "metadata": {
            "needs_background": "light"
          },
          "output_type": "display_data"
        },
        {
          "name": "stdout",
          "output_type": "stream",
          "text": [
            "Accuracy: 0.8216748768472907\n"
          ]
        }
      ],
      "source": [
        "net2 = NN().cuda()\n",
        "_, acc2 = train(pca_train_imgs, pca_train_labels, net2, net2.parameters())\n",
        "ax = range(len(acc2))\n",
        "plt.plot(ax, acc2)\n",
        "plt.xlabel('#Iterations')\n",
        "plt.ylabel('Accuracy')\n",
        "plt.show()\n",
        "print('Accuracy: {}'.format(test(pca_test_imgs, pca_test_labels, net2)))"
      ]
    }
  ],
  "metadata": {
    "accelerator": "GPU",
    "colab": {
      "provenance": []
    },
    "gpuClass": "standard",
    "kernelspec": {
      "display_name": "Python 3.10.0 64-bit",
      "language": "python",
      "name": "python3"
    },
    "language_info": {
      "codemirror_mode": {
        "name": "ipython",
        "version": 3
      },
      "file_extension": ".py",
      "mimetype": "text/x-python",
      "name": "python",
      "nbconvert_exporter": "python",
      "pygments_lexer": "ipython3",
      "version": "3.10.0"
    },
    "orig_nbformat": 4,
    "vscode": {
      "interpreter": {
        "hash": "7e1998ff7f8aa20ada591c520b972326324e5ea05489af9e422744c7c09f6dad"
      }
    }
  },
  "nbformat": 4,
  "nbformat_minor": 0
}
