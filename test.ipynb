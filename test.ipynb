{
 "cells": [
  {
   "cell_type": "markdown",
   "metadata": {},
   "source": [
    "# Test Notebook to visualize the data and start playing around"
   ]
  },
  {
   "cell_type": "markdown",
   "metadata": {},
   "source": [
    "## Libraries"
   ]
  },
  {
   "cell_type": "code",
   "execution_count": 98,
   "metadata": {},
   "outputs": [],
   "source": [
    "import pandas as pd\n",
    "import numpy as np\n",
    "import math\n",
    "%matplotlib inline\n",
    "from matplotlib import pyplot as plt\n",
    "import random\n",
    "random.seed(1)"
   ]
  },
  {
   "cell_type": "markdown",
   "metadata": {},
   "source": [
    "## Import of Picture data"
   ]
  },
  {
   "cell_type": "code",
   "execution_count": 99,
   "metadata": {},
   "outputs": [],
   "source": [
    "df = pd.read_csv(r'data\\hmnist_28_28_L.csv')\n",
    "#print(df)"
   ]
  },
  {
   "cell_type": "markdown",
   "metadata": {},
   "source": [
    "## Display of images"
   ]
  },
  {
   "cell_type": "code",
   "execution_count": 100,
   "metadata": {},
   "outputs": [
    {
     "data": {
      "image/png": "[encoded data removed]",
      "text/plain": [
       "<Figure size 640x480 with 1 Axes>"
      ]
     },
     "metadata": {},
     "output_type": "display_data"
    }
   ],
   "source": [
    "def disp_img(data_vec):\n",
    "    if math.sqrt(np.size(data_vec)) != int(math.sqrt(np.size(data_vec))):\n",
    "        img_label = data_vec[-1]\n",
    "        img_vec = data_vec[0:-1]\n",
    "    else:\n",
    "        img_vec = data_vec\n",
    "\n",
    "    size = np.size(img_vec)\n",
    "    dimension = int(math.sqrt(size))\n",
    "\n",
    "    img_mat = np.reshape(np.array(img_vec), (dimension, dimension))\n",
    "\n",
    "    plt.imshow(img_mat)\n",
    "    plt.show()\n",
    "\n",
    "img_number = 0\n",
    "data_vec = df.loc[img_number]\n",
    "\n",
    "disp_img(data_vec)"
   ]
  },
  {
   "cell_type": "markdown",
   "metadata": {},
   "source": [
    "# Extraction and grouping of labels "
   ]
  },
  {
   "cell_type": "code",
   "execution_count": 101,
   "metadata": {},
   "outputs": [
    {
     "name": "stdout",
     "output_type": "stream",
     "text": [
      "[(0, 327), (1, 514), (2, 1099), (3, 115), (4, 6705), (5, 142), (6, 1113)]\n"
     ]
    }
   ],
   "source": [
    "label = df['label']\n",
    "uniq_label, counts_label = np.unique(label, return_counts=True)\n",
    "print(list(zip(uniq_label, counts_label)))"
   ]
  },
  {
   "cell_type": "markdown",
   "metadata": {},
   "source": [
    "# Import of Metadata"
   ]
  },
  {
   "cell_type": "code",
   "execution_count": 102,
   "metadata": {},
   "outputs": [],
   "source": [
    "df_meta = pd.read_csv(r'data\\HAM10000_metadata.csv')\n",
    "#print(df_meta)"
   ]
  },
  {
   "cell_type": "markdown",
   "metadata": {},
   "source": [
    "# Extraction of different diagnostic cathegories\n",
    "\n",
    "Labels / Cathegories:\n",
    "\n",
    "0 / Actinic keratoses and intraepithelial carcinoma / Bowen's disease (akiec)\n",
    "\n",
    "1 / basal cell carcinoma (bcc)\n",
    "\n",
    "2 / benign keratosis-like lesions (solar lentigines / seborrheic keratoses and lichen-planus like keratoses, bkl)\n",
    "\n",
    "3 / dermatofibroma (df)\n",
    "\n",
    "4 / melanoma (mel)\n",
    "\n",
    "5 / melanocytic nevi (nv)\n",
    "\n",
    "6 / vascular lesions (angiomas, angiokeratomas, pyogenic granulomas and hemorrhage, vasc)"
   ]
  },
  {
   "cell_type": "code",
   "execution_count": 103,
   "metadata": {},
   "outputs": [
    {
     "name": "stdout",
     "output_type": "stream",
     "text": [
      "[('akiec', 327), ('bcc', 514), ('bkl', 1099), ('df', 115), ('mel', 1113), ('nv', 6705), ('vasc', 142)]\n"
     ]
    }
   ],
   "source": [
    "cath = df_meta['dx']\n",
    "uniq_cath, counts_cath = np.unique(cath, return_counts=True)\n",
    "print(list(zip(uniq_cath, counts_cath)))"
   ]
  },
  {
   "cell_type": "markdown",
   "metadata": {},
   "source": [
    "# Grouping the pictures by the different diagnosis"
   ]
  },
  {
   "cell_type": "code",
   "execution_count": 104,
   "metadata": {},
   "outputs": [
    {
     "name": "stdout",
     "output_type": "stream",
     "text": [
      "[(0, 327), (1, 514), (2, 1099), (3, 115), (4, 6705), (5, 142), (6, 1113)]\n"
     ]
    }
   ],
   "source": [
    "img_index_group = []                #List with 6 nested lists; index of nested list = label / cathegorie; values in nested lists = index of pictures belonging to that label /cathegorie\n",
    "for i in range(len(uniq_label)):\n",
    "    img_index_group.append([])\n",
    "    for j in range(df.shape[0]):\n",
    "        if df['label'][j] == i:\n",
    "            img_index_group[i].append(j)\n",
    "\n",
    "print(list((i, len(img_index_group[i])) for i in range(len(img_index_group))))\n",
    "#print(img_index_group)"
   ]
  },
  {
   "cell_type": "markdown",
   "metadata": {},
   "source": [
    "# Splitting into training and testing data"
   ]
  },
  {
   "cell_type": "code",
   "execution_count": 105,
   "metadata": {},
   "outputs": [],
   "source": [
    "training_split = 0.9                #Percentage of Data used for training\n",
    "img_index_group_split = []          #Same as img_index_group but every nested list is split into two lists: first is list for training, second is list for testing\n",
    "\n",
    "for i in range(len(img_index_group)):\n",
    "    random.shuffle(img_index_group[i])\n",
    "    split_point = round(len(img_index_group[i])*training_split)\n",
    "    img_index_group_split.append([img_index_group[i][:split_point], img_index_group[i][split_point:]])\n",
    "    \n",
    "    #print(i)\n",
    "    #print(len(img_index_group_split[i][0]))\n",
    "    #print(len(img_index_group_split[i][1]))\n",
    "\n",
    "#print(img_index_group_split)"
   ]
  },
  {
   "cell_type": "markdown",
   "metadata": {},
   "source": [
    "# Running Clustering on the different diagnosis\n",
    "\n",
    "## Principal Component Analysis"
   ]
  },
  {
   "cell_type": "code",
   "execution_count": 106,
   "metadata": {},
   "outputs": [
    {
     "data": {
      "image/png": "[encoded data removed]",
      "text/plain": [
       "<Figure size 640x480 with 1 Axes>"
      ]
     },
     "metadata": {},
     "output_type": "display_data"
    }
   ],
   "source": [
    "mean = []\n",
    "\n",
    "for i in range(len(img_index_group)):\n",
    "    mean.append(np.mean(df.loc[img_index_group[i]], axis=0))\n",
    "    \n",
    "    disp_img(mean[i])\n",
    "    #print(mean[i])\n"
   ]
  },
  {
   "cell_type": "code",
   "execution_count": null,
   "metadata": {},
   "outputs": [],
   "source": [
    "df_sub_mean = pd.DataFrame()\n",
    "for i in range(len(img_index_group)):\n",
    "    df_sub_mean = pd.concat((df_sub_mean, df.loc[img_index_group[i]]-mean[i]))\n",
    "\n",
    "df_sub_mean.sort_index(axis=0, inplace=True)\n",
    "\n",
    "#print(df_sub_mean)"
   ]
  },
  {
   "cell_type": "code",
   "execution_count": null,
   "metadata": {},
   "outputs": [],
   "source": [
    "df_matrix = df_sub_mean.iloc[:, :-1]\n",
    "\n",
    "eig_vec = []\n",
    "eig_val = []\n",
    "\n",
    "for i in range(len(img_index_group)):\n",
    "    matrix = df_sub_mean.loc[img_index_group[i]]\n",
    "    val, vec = np.linalg.eig(matrix.transpose().dot(matrix))\n",
    "    eig_val.append(val)\n",
    "    eig_vec.append(vec)\n",
    "\n",
    "#print(eig_val)\n",
    "#print(eig_vec)\n"
   ]
  }
 ],
 "metadata": {
  "kernelspec": {
   "display_name": "Python 3.10.4 64-bit",
   "language": "python",
   "name": "python3"
  },
  "language_info": {
   "codemirror_mode": {
    "name": "ipython",
    "version": 3
   },
   "file_extension": ".py",
   "mimetype": "text/x-python",
   "name": "python",
   "nbconvert_exporter": "python",
   "pygments_lexer": "ipython3",
   "version": "3.10.4"
  },
  "orig_nbformat": 4,
  "vscode": {
   "interpreter": {
    "hash": "871995a1d3e01d9b1f67d0fc506e3f7e745227d1150201e5610c1769147c6906"
   }
  }
 },
 "nbformat": 4,
 "nbformat_minor": 2
}
