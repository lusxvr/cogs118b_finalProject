{
 "cells": [
  {
   "cell_type": "markdown",
   "metadata": {},
   "source": [
    "# Test Notebook to visualize the data"
   ]
  },
  {
   "cell_type": "markdown",
   "metadata": {},
   "source": [
    "## Libraries"
   ]
  },
  {
   "cell_type": "code",
   "execution_count": null,
   "metadata": {},
   "outputs": [],
   "source": [
    "import pandas as pd\n",
    "import numpy as np\n",
    "import math\n",
    "%matplotlib inline\n",
    "from matplotlib import pyplot as plt"
   ]
  },
  {
   "cell_type": "markdown",
   "metadata": {},
   "source": [
    "## Import of CSV data"
   ]
  },
  {
   "cell_type": "code",
   "execution_count": 28,
   "metadata": {},
   "outputs": [
    {
     "name": "stdout",
     "output_type": "stream",
     "text": [
      "       pixel0000  pixel0001  pixel0002  pixel0003  pixel0004  pixel0005  \\\n",
      "0            169        171        170        177        181        182   \n",
      "1             19         57        105        140        149        148   \n",
      "2            155        163        161        167        167        172   \n",
      "3             25         71        116        139        136        153   \n",
      "4            129        162        181        196        205        208   \n",
      "...          ...        ...        ...        ...        ...        ...   \n",
      "10010        172        171        173        175        164        187   \n",
      "10011          2         34        108        116        114        119   \n",
      "10012        122        154        162        170        179        197   \n",
      "10013        137        143        141        139        147        152   \n",
      "10014        149        157        157        152        151        152   \n",
      "\n",
      "       pixel0006  pixel0007  pixel0008  pixel0009  ...  pixel0775  pixel0776  \\\n",
      "0            181        185        194        192  ...        184        186   \n",
      "1            144        155        170        170  ...        172        175   \n",
      "2            155        152        165        175  ...        163        178   \n",
      "3            148        161        172        162  ...        125        135   \n",
      "4            205        213        225        224  ...        210        197   \n",
      "...          ...        ...        ...        ...  ...        ...        ...   \n",
      "10010        207        210        208        206  ...        210        217   \n",
      "10011        131        139        139        145  ...        173        169   \n",
      "10012        200        195        202        199  ...        221        215   \n",
      "10013        155        152        155        159  ...        172        171   \n",
      "10014        154        163        149        145  ...        159        154   \n",
      "\n",
      "       pixel0777  pixel0778  pixel0779  pixel0780  pixel0781  pixel0782  \\\n",
      "0            185        180        157        140        140        159   \n",
      "1            160        144        114         89         47         18   \n",
      "2            157        166        167        148        141        136   \n",
      "3            138        137        111         71         32         16   \n",
      "4            172        190        195        193        181        147   \n",
      "...          ...        ...        ...        ...        ...        ...   \n",
      "10010        221        209        185        187        192        192   \n",
      "10011        168        168        143        138         83         23   \n",
      "10012        205        187        209        198        187        164   \n",
      "10013        175        183        177        170        169        166   \n",
      "10014        145        106         67         62        103        146   \n",
      "\n",
      "       pixel0783  label  \n",
      "0            165      2  \n",
      "1             18      2  \n",
      "2            115      2  \n",
      "3             16      2  \n",
      "4             88      2  \n",
      "...          ...    ...  \n",
      "10010        192      0  \n",
      "10011          3      0  \n",
      "10012        156      0  \n",
      "10013        170      0  \n",
      "10014        148      6  \n",
      "\n",
      "[10015 rows x 785 columns]\n"
     ]
    }
   ],
   "source": [
    "df = pd.read_csv(r'data\\hmnist_28_28_L.csv')\n",
    "print(df)"
   ]
  },
  {
   "cell_type": "markdown",
   "metadata": {},
   "source": [
    "## Display of images"
   ]
  },
  {
   "cell_type": "code",
   "execution_count": 30,
   "metadata": {},
   "outputs": [
    {
     "data": {
      "image/png": "[encoded data removed]",
      "text/plain": [
       "<Figure size 640x480 with 1 Axes>"
      ]
     },
     "metadata": {},
     "output_type": "display_data"
    }
   ],
   "source": [
    "data_vec = df.loc[0]\n",
    "img_label = data_vec[-1]\n",
    "img_vec = data_vec[0:-1]\n",
    "\n",
    "size = np.size(img_vec)\n",
    "dimension = int(math.sqrt(size))\n",
    "\n",
    "img_mat = np.reshape(np.array(img_vec), (dimension, dimension))\n",
    "\n",
    "plt.imshow(img_mat)\n",
    "plt.show()"
   ]
  }
 ],
 "metadata": {
  "kernelspec": {
   "display_name": "Python 3.10.4 64-bit",
   "language": "python",
   "name": "python3"
  },
  "language_info": {
   "codemirror_mode": {
    "name": "ipython",
    "version": 3
   },
   "file_extension": ".py",
   "mimetype": "text/x-python",
   "name": "python",
   "nbconvert_exporter": "python",
   "pygments_lexer": "ipython3",
   "version": "3.10.4"
  },
  "orig_nbformat": 4,
  "vscode": {
   "interpreter": {
    "hash": "871995a1d3e01d9b1f67d0fc506e3f7e745227d1150201e5610c1769147c6906"
   }
  }
 },
 "nbformat": 4,
 "nbformat_minor": 2
}
